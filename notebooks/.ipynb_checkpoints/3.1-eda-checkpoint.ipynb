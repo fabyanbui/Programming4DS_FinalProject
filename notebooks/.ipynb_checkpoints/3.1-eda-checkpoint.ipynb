{
 "cells": [
  {
   "cell_type": "markdown",
   "metadata": {},
   "source": [
    "<div style=\"text-align: center; background-color: #0A6EBD; font-family: 'Trebuchet MS', Arial, sans-serif; color: white; padding: 20px; font-size: 40px; font-weight: bold; border-radius: 0 0 0 0; box-shadow: 0px 6px 8px rgba(0, 0, 0, 0.2);\">\n",
    "  Final Project - Programming for Data Science\n",
    "    <div style=\"text-align: center; background-color: #0A6EBD; font-family: 'Trebuchet MS', Arial, sans-serif; color: white; padding: 20px; font-size: 40px; font-weight: bold; border-radius: 0 0 0 0; box-shadow: 0px 6px 8px rgba(0, 0, 0, 0.2);\">\n",
    "    @ FIT-HCMUS, VNU-HCM 📌\n",
    "</div>"
   ]
  },
  {
   "cell_type": "markdown",
   "metadata": {},
   "source": [
    "<div style=\"text-align: center; background-color: #b1d1ff; font-family: 'Trebuchet MS', Arial, sans-serif; color: white; padding: 20px; font-size: 40px; font-weight: bold; border-radius: 0 0 0 0; box-shadow: 0px 6px 8px rgba(0, 0, 0, 0.2);\">\n",
    "  Stage 3.1 - Exploratory data analysis\n",
    "</div>"
   ]
  },
  {
   "cell_type": "code",
   "execution_count": 7,
   "metadata": {},
   "outputs": [],
   "source": [
    "import numpy as np\n",
    "import pandas as pd\n"
   ]
  },
  {
   "cell_type": "code",
   "execution_count": 9,
   "metadata": {},
   "outputs": [],
   "source": [
    "processed_df = pd.read_csv('./../data/Processed.csv', index_col=0)"
   ]
  },
  {
   "cell_type": "code",
   "execution_count": 10,
   "metadata": {},
   "outputs": [
    {
     "name": "stdout",
     "output_type": "stream",
     "text": [
      "<class 'pandas.core.frame.DataFrame'>\n",
      "Int64Index: 921 entries, 0 to 920\n",
      "Data columns (total 16 columns):\n",
      " #   Column                       Non-Null Count  Dtype  \n",
      "---  ------                       --------------  -----  \n",
      " 0   Start                        921 non-null    object \n",
      " 1   End                          921 non-null    object \n",
      " 2   Sleep Quality (%)            921 non-null    float64\n",
      " 3   Regularity (%)               921 non-null    float64\n",
      " 4   Steps                        921 non-null    int64  \n",
      " 5   Alarm mode                   921 non-null    object \n",
      " 6   Movements per hour           921 non-null    float64\n",
      " 7   Time in bed (seconds)        921 non-null    float64\n",
      " 8   Time asleep (seconds)        921 non-null    float64\n",
      " 9   Time before sleep (seconds)  921 non-null    float64\n",
      " 10  Window start                 841 non-null    object \n",
      " 11  Window stop                  841 non-null    object \n",
      " 12  Did snore                    921 non-null    bool   \n",
      " 13  Snore time                   921 non-null    float64\n",
      " 14  Weather temperature (°C)     921 non-null    float64\n",
      " 15  Weather type                 921 non-null    object \n",
      "dtypes: bool(1), float64(8), int64(1), object(6)\n",
      "memory usage: 116.0+ KB\n"
     ]
    }
   ],
   "source": [
    "processed_df.info()"
   ]
  }
 ],
 "metadata": {
  "kernelspec": {
   "display_name": "Python 3 (ipykernel)",
   "language": "python",
   "name": "python3"
  },
  "language_info": {
   "codemirror_mode": {
    "name": "ipython",
    "version": 3
   },
   "file_extension": ".py",
   "mimetype": "text/x-python",
   "name": "python",
   "nbconvert_exporter": "python",
   "pygments_lexer": "ipython3",
   "version": "3.10.8"
  }
 },
 "nbformat": 4,
 "nbformat_minor": 4
}
