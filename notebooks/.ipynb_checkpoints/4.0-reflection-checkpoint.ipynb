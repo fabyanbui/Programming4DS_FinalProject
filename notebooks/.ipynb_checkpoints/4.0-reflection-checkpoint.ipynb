{
 "cells": [
  {
   "cell_type": "markdown",
   "id": "0f1a9b16-93d7-4845-8b29-d4f62be27978",
   "metadata": {},
   "source": [
    "# TỔNG KẾT TỰ ĐÁNH GIÁ NHÓM:"
   ]
  },
  {
   "cell_type": "markdown",
   "id": "6aa22020-aa2f-4f26-ba47-4d4671b2abb1",
   "metadata": {},
   "source": [
    "## <span style=\"color:green\"> Kiến thức học được: </span>"
   ]
  },
  {
   "cell_type": "markdown",
   "id": "1abd4c70-0916-44ff-9cf3-5251f0ebca24",
   "metadata": {},
   "source": [
    "> - Kỹ năng làm việc nhóm.\n",
    "> - Cách sử dụng các công cụ hỗ trợ làm việc hiệu quả hơn như `GitHub`, `Trello`.\n",
    "> - Biết thêm một mảng kiến thức domain.\n",
    "> - Học hỏi lẫn nhau giữa các thành viên trong nhóm.\n",
    "> - Nâng cao kỹ năng chuyên môn về lập trình cho khoa học dữ liệu."
   ]
  },
  {
   "cell_type": "markdown",
   "id": "61e4d215-9776-446f-b923-3e5b55ef0bb0",
   "metadata": {},
   "source": [
    "## <span style=\"color:red\"> Khó khăn gặp phải: </span>"
   ]
  },
  {
   "cell_type": "markdown",
   "id": "da4d233d-8a63-4e51-bdb1-0e98149b5476",
   "metadata": {},
   "source": [
    "> - Bộ dữ liệu chưa thật sự ý nghĩa, không có quá nhiều đặc trưng (Việc chọn bộ dữ liệu tốn quá nhiều thời gian).\n",
    "> - Thiếu domain knowledge (kiến thức về kinh tế, điện ảnh).\n",
    "> - Chưa thể nghĩ ra được câu hỏi mang tính chuyên môn cao để phân tích (eda).\n",
    "> - Thiếu kinh nghiệm xử lý dữ liệu trong thực tế.\n",
    "> - Không đủ thời gian để thực hiện đồ án vì còn phải ôn thi cuối kỳ."
   ]
  },
  {
   "cell_type": "markdown",
   "id": "2f8b267f-1491-4056-8393-4eb23538f532",
   "metadata": {},
   "source": [
    "## <span style=\"color:blue\"> Nếu còn thời gian: </span>"
   ]
  },
  {
   "cell_type": "markdown",
   "id": "e1281172-08c1-4d98-a67e-39e1fd2a75f4",
   "metadata": {},
   "source": [
    "> - Làm thêm mô hình học máy cho đồ án.\n",
    "> - Sử dụng những bộ dữ liệu có giá trị để thực hiện đồ án dễ dàng hơn.\n",
    "> - Rèn luyện thêm kỹ năng chuyên môn về lập trình cho khoa học dữ liệu."
   ]
  }
 ],
 "metadata": {
  "kernelspec": {
   "display_name": "Python 3 (ipykernel)",
   "language": "python",
   "name": "python3"
  },
  "language_info": {
   "codemirror_mode": {
    "name": "ipython",
    "version": 3
   },
   "file_extension": ".py",
   "mimetype": "text/x-python",
   "name": "python",
   "nbconvert_exporter": "python",
   "pygments_lexer": "ipython3",
   "version": "3.10.8"
  }
 },
 "nbformat": 4,
 "nbformat_minor": 5
}
