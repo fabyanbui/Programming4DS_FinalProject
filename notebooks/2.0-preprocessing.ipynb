{
 "cells": [
  {
   "cell_type": "markdown",
   "id": "5b9e1b22-3827-40bd-89ea-c00564317196",
   "metadata": {},
   "source": [
    "<div style=\"text-align: center; background-color: #0A6EBD; font-family: 'Trebuchet MS', Arial, sans-serif; color: white; padding: 20px; font-size: 40px; font-weight: bold; border-radius: 0 0 0 0; box-shadow: 0px 6px 8px rgba(0, 0, 0, 0.2);\">\n",
    "  Final Project - Programming for Data Science\n",
    "    <div style=\"text-align: center; background-color: #0A6EBD; font-family: 'Trebuchet MS', Arial, sans-serif; color: white; padding: 20px; font-size: 40px; font-weight: bold; border-radius: 0 0 0 0; box-shadow: 0px 6px 8px rgba(0, 0, 0, 0.2);\">\n",
    "    @ FIT-HCMUS, VNU-HCM 📌\n",
    "</div>"
   ]
  },
  {
   "cell_type": "markdown",
   "id": "d76320d9-ff98-48c8-8e4c-6888f1835346",
   "metadata": {},
   "source": [
    "<div style=\"text-align: center; background-color: #b1d1ff; font-family: 'Trebuchet MS', Arial, sans-serif; color: white; padding: 20px; font-size: 40px; font-weight: bold; border-radius: 0 0 0 0; box-shadow: 0px 6px 8px rgba(0, 0, 0, 0.2);\">\n",
    "  Stage 02 - Preprocessing\n",
    "</div>"
   ]
  },
  {
   "cell_type": "code",
   "execution_count": 1,
   "id": "cf29dde9-4028-40fa-aebd-f0786f850e17",
   "metadata": {},
   "outputs": [],
   "source": [
    "import numpy as np\n",
    "import pandas as pd\n"
   ]
  },
  {
   "cell_type": "code",
   "execution_count": 2,
   "id": "c1428190-9a41-4ec1-b8ca-570e013f535b",
   "metadata": {},
   "outputs": [
    {
     "data": {
      "text/html": [
       "<div>\n",
       "<style scoped>\n",
       "    .dataframe tbody tr th:only-of-type {\n",
       "        vertical-align: middle;\n",
       "    }\n",
       "\n",
       "    .dataframe tbody tr th {\n",
       "        vertical-align: top;\n",
       "    }\n",
       "\n",
       "    .dataframe thead th {\n",
       "        text-align: right;\n",
       "    }\n",
       "</style>\n",
       "<table border=\"1\" class=\"dataframe\">\n",
       "  <thead>\n",
       "    <tr style=\"text-align: right;\">\n",
       "      <th></th>\n",
       "      <th>ORDERNUMBER</th>\n",
       "      <th>QUANTITYORDERED</th>\n",
       "      <th>PRICEEACH</th>\n",
       "      <th>ORDERLINENUMBER</th>\n",
       "      <th>SALES</th>\n",
       "      <th>ORDERDATE</th>\n",
       "      <th>DAYS_SINCE_LASTORDER</th>\n",
       "      <th>STATUS</th>\n",
       "      <th>PRODUCTLINE</th>\n",
       "      <th>MSRP</th>\n",
       "      <th>PRODUCTCODE</th>\n",
       "      <th>CUSTOMERNAME</th>\n",
       "      <th>PHONE</th>\n",
       "      <th>ADDRESSLINE1</th>\n",
       "      <th>CITY</th>\n",
       "      <th>POSTALCODE</th>\n",
       "      <th>COUNTRY</th>\n",
       "      <th>CONTACTLASTNAME</th>\n",
       "      <th>CONTACTFIRSTNAME</th>\n",
       "      <th>DEALSIZE</th>\n",
       "    </tr>\n",
       "  </thead>\n",
       "  <tbody>\n",
       "    <tr>\n",
       "      <th>2488</th>\n",
       "      <td>10131</td>\n",
       "      <td>40</td>\n",
       "      <td>110.69</td>\n",
       "      <td>1</td>\n",
       "      <td>4427.60</td>\n",
       "      <td>16/06/2018</td>\n",
       "      <td>3204</td>\n",
       "      <td>Shipped</td>\n",
       "      <td>Planes</td>\n",
       "      <td>99</td>\n",
       "      <td>S700_2466</td>\n",
       "      <td>Gift Ideas Corp.</td>\n",
       "      <td>2035554407</td>\n",
       "      <td>2440 Pompton St.</td>\n",
       "      <td>Glendale</td>\n",
       "      <td>97561</td>\n",
       "      <td>USA</td>\n",
       "      <td>Lewis</td>\n",
       "      <td>Dan</td>\n",
       "      <td>Medium</td>\n",
       "    </tr>\n",
       "    <tr>\n",
       "      <th>665</th>\n",
       "      <td>10303</td>\n",
       "      <td>46</td>\n",
       "      <td>49.04</td>\n",
       "      <td>2</td>\n",
       "      <td>2255.84</td>\n",
       "      <td>06/10/2019</td>\n",
       "      <td>904</td>\n",
       "      <td>Shipped</td>\n",
       "      <td>Vintage Cars</td>\n",
       "      <td>60</td>\n",
       "      <td>S18_2248</td>\n",
       "      <td>Iberia Gift Imports, Corp.</td>\n",
       "      <td>(95) 555 82 82</td>\n",
       "      <td>C/ Romero, 33</td>\n",
       "      <td>Sevilla</td>\n",
       "      <td>41101</td>\n",
       "      <td>Spain</td>\n",
       "      <td>Roel</td>\n",
       "      <td>Jose Pedro</td>\n",
       "      <td>Small</td>\n",
       "    </tr>\n",
       "    <tr>\n",
       "      <th>2549</th>\n",
       "      <td>10217</td>\n",
       "      <td>31</td>\n",
       "      <td>88.00</td>\n",
       "      <td>6</td>\n",
       "      <td>2728.00</td>\n",
       "      <td>04/02/2019</td>\n",
       "      <td>3032</td>\n",
       "      <td>Shipped</td>\n",
       "      <td>Classic Cars</td>\n",
       "      <td>101</td>\n",
       "      <td>S700_2824</td>\n",
       "      <td>Handji Gifts&amp; Co</td>\n",
       "      <td>+65 224 1555</td>\n",
       "      <td>Village Close - 106 Linden Road Sandown</td>\n",
       "      <td>Singapore</td>\n",
       "      <td>69045</td>\n",
       "      <td>Singapore</td>\n",
       "      <td>Victorino</td>\n",
       "      <td>Wendy</td>\n",
       "      <td>Small</td>\n",
       "    </tr>\n",
       "    <tr>\n",
       "      <th>2357</th>\n",
       "      <td>10383</td>\n",
       "      <td>38</td>\n",
       "      <td>60.06</td>\n",
       "      <td>10</td>\n",
       "      <td>2282.28</td>\n",
       "      <td>22/02/2020</td>\n",
       "      <td>2457</td>\n",
       "      <td>Shipped</td>\n",
       "      <td>Trains</td>\n",
       "      <td>58</td>\n",
       "      <td>S50_1514</td>\n",
       "      <td>Euro Shopping Channel</td>\n",
       "      <td>(91) 555 94 44</td>\n",
       "      <td>C/ Moralzarzal, 86</td>\n",
       "      <td>Madrid</td>\n",
       "      <td>28034</td>\n",
       "      <td>Spain</td>\n",
       "      <td>Freyre</td>\n",
       "      <td>Diego</td>\n",
       "      <td>Small</td>\n",
       "    </tr>\n",
       "    <tr>\n",
       "      <th>2617</th>\n",
       "      <td>10118</td>\n",
       "      <td>36</td>\n",
       "      <td>117.20</td>\n",
       "      <td>1</td>\n",
       "      <td>4219.20</td>\n",
       "      <td>21/04/2018</td>\n",
       "      <td>3389</td>\n",
       "      <td>Shipped</td>\n",
       "      <td>Ships</td>\n",
       "      <td>100</td>\n",
       "      <td>S700_3505</td>\n",
       "      <td>Enaco Distributors</td>\n",
       "      <td>(93) 203 4555</td>\n",
       "      <td>Rambla de Catalu¤a, 23</td>\n",
       "      <td>Barcelona</td>\n",
       "      <td>8022</td>\n",
       "      <td>Spain</td>\n",
       "      <td>Saavedra</td>\n",
       "      <td>Eduardo</td>\n",
       "      <td>Medium</td>\n",
       "    </tr>\n",
       "  </tbody>\n",
       "</table>\n",
       "</div>"
      ],
      "text/plain": [
       "      ORDERNUMBER  QUANTITYORDERED  PRICEEACH  ORDERLINENUMBER    SALES  \\\n",
       "2488        10131               40     110.69                1  4427.60   \n",
       "665         10303               46      49.04                2  2255.84   \n",
       "2549        10217               31      88.00                6  2728.00   \n",
       "2357        10383               38      60.06               10  2282.28   \n",
       "2617        10118               36     117.20                1  4219.20   \n",
       "\n",
       "       ORDERDATE  DAYS_SINCE_LASTORDER   STATUS   PRODUCTLINE  MSRP  \\\n",
       "2488  16/06/2018                  3204  Shipped        Planes    99   \n",
       "665   06/10/2019                   904  Shipped  Vintage Cars    60   \n",
       "2549  04/02/2019                  3032  Shipped  Classic Cars   101   \n",
       "2357  22/02/2020                  2457  Shipped        Trains    58   \n",
       "2617  21/04/2018                  3389  Shipped         Ships   100   \n",
       "\n",
       "     PRODUCTCODE                CUSTOMERNAME           PHONE  \\\n",
       "2488   S700_2466            Gift Ideas Corp.      2035554407   \n",
       "665     S18_2248  Iberia Gift Imports, Corp.  (95) 555 82 82   \n",
       "2549   S700_2824            Handji Gifts& Co    +65 224 1555   \n",
       "2357    S50_1514       Euro Shopping Channel  (91) 555 94 44   \n",
       "2617   S700_3505          Enaco Distributors   (93) 203 4555   \n",
       "\n",
       "                                 ADDRESSLINE1       CITY POSTALCODE  \\\n",
       "2488                         2440 Pompton St.   Glendale      97561   \n",
       "665                             C/ Romero, 33    Sevilla      41101   \n",
       "2549  Village Close - 106 Linden Road Sandown  Singapore      69045   \n",
       "2357                       C/ Moralzarzal, 86     Madrid      28034   \n",
       "2617                   Rambla de Catalu¤a, 23  Barcelona       8022   \n",
       "\n",
       "        COUNTRY CONTACTLASTNAME CONTACTFIRSTNAME DEALSIZE  \n",
       "2488        USA           Lewis              Dan   Medium  \n",
       "665       Spain            Roel       Jose Pedro    Small  \n",
       "2549  Singapore       Victorino            Wendy    Small  \n",
       "2357      Spain          Freyre            Diego    Small  \n",
       "2617      Spain        Saavedra          Eduardo   Medium  "
      ]
     },
     "execution_count": 2,
     "metadata": {},
     "output_type": "execute_result"
    }
   ],
   "source": [
    "sales_df=pd.read_csv('./../data/Auto Sales data.csv',delimiter=\",\")\n",
    "sales_df.sample(n=5)"
   ]
  },
  {
   "cell_type": "code",
   "execution_count": 3,
   "id": "3e125298-071d-4a3a-98d3-124e7195c24c",
   "metadata": {},
   "outputs": [
    {
     "data": {
      "text/plain": [
       "(2747, 20)"
      ]
     },
     "execution_count": 3,
     "metadata": {},
     "output_type": "execute_result"
    }
   ],
   "source": [
    "n_rows=sales_df.shape[0]\n",
    "n_cols=sales_df.shape[1]\n",
    "n_rows, n_cols"
   ]
  },
  {
   "cell_type": "markdown",
   "id": "d06cd73f-7347-4e94-9a66-27de745c46b5",
   "metadata": {},
   "source": [
    "Giá trị của mỗi cột:\n",
    "- `ORDERNUMBER`: Định danh duy nhất của mỗi đơn hàng.\n",
    "- `QUANTITYORDERED`: Số lượng sản phẩm được đặt cho mỗi đơn hàng.\n",
    "- `PRICEEACH`: Giá của mỗi đơn vị sản phẩm.\n",
    "- `ORDERLINENUMBER`: Số dòng của sản phẩm trong đơn hàng.\n",
    "- `SALES`: Tổng giá trị bán hàng cho sản phẩm trong đơn hàng cụ thể (tính bẳng QUANTITYORDERED * PRICEEACH).\n",
    "- `ORDERDATE`: Ngày đặt hàng.\n",
    "- `DAYS_SINCE_LASTORDER`: Số ngày kể từ đơn hàng trước đó.\n",
    "- `STATUS`: Trạng thái của đơn hàng (e.g., Shipped, Cancelled).\n",
    "- `PRODUCTLINE`: Loại, danh mục của sản phẩm.\n",
    "- `MSRP`: Giá bán lẻ khuyến nghị của sản phẩm.\n",
    "- `PRODUCTCODE`: Mã sản phẩm.\n",
    "- `CUSTOMERNAME`: Tên khách hàng đặt đơn.\n",
    "- `PHONE`: Số điện thoại khách hàng.\n",
    "- `ADDRESSLINE1`: Dòng địa chỉ đầu tiên của khách hàng.\n",
    "- `CITY`: Thành phố nơi khách hàng ở.\n",
    "- `POSTALCODE`: Mã bưu điện của địa chỉ khách hàng.\n",
    "- `COUNTRY`: Quốc gia nơi khách hàng ở.\n",
    "- `CONTACTLASTNAME`: Họ của người liên hệ cho đơn hàng.\n",
    "- `CONTACTFIRSTNAME`: Tên của người liên hệ cho đơn hàng.\n",
    "- `DEALSIZE`: Kích thước của giao dịch (e.g., Small, Medium).\n",
    "\n",
    "Giá trị của mỗi hàng: Mỗi hàng thể hiện đại diện cho 1 đơn hàng cụ thể với chi tiết về sản phẩm, khách hàng, và thông tin đơn hàng\n",
    "\n",
    "Sau khi tìm ra giá trị của các cột, các hàng trong dữ liệu, ta kiểm tra xem có hàng nào trùng lặp không"
   ]
  },
  {
   "cell_type": "code",
   "execution_count": 4,
   "id": "bf886693-0d21-4483-9779-709aa747eaf9",
   "metadata": {},
   "outputs": [
    {
     "data": {
      "text/plain": [
       "0"
      ]
     },
     "execution_count": 4,
     "metadata": {},
     "output_type": "execute_result"
    }
   ],
   "source": [
    "duplicated_rows = sales_df[sales_df.duplicated()]\n",
    "len(duplicated_rows)\n"
   ]
  },
  {
   "cell_type": "markdown",
   "id": "fb1e929e-a326-40d6-b357-37da78a39520",
   "metadata": {},
   "source": [
    "Vậy là không có hàng nào bị trùng. Tiếp đó, chung ta sẽ kiểm tra tỉ lệ thiếu hụt của các cột trong dữ liệu."
   ]
  },
  {
   "cell_type": "code",
   "execution_count": 5,
   "id": "ff685f86-e26e-4d2a-9d59-9b7c8eaddaa6",
   "metadata": {},
   "outputs": [
    {
     "name": "stdout",
     "output_type": "stream",
     "text": [
      "<class 'pandas.core.frame.DataFrame'>\n",
      "RangeIndex: 2747 entries, 0 to 2746\n",
      "Data columns (total 20 columns):\n",
      " #   Column                Non-Null Count  Dtype  \n",
      "---  ------                --------------  -----  \n",
      " 0   ORDERNUMBER           2747 non-null   int64  \n",
      " 1   QUANTITYORDERED       2747 non-null   int64  \n",
      " 2   PRICEEACH             2747 non-null   float64\n",
      " 3   ORDERLINENUMBER       2747 non-null   int64  \n",
      " 4   SALES                 2747 non-null   float64\n",
      " 5   ORDERDATE             2747 non-null   object \n",
      " 6   DAYS_SINCE_LASTORDER  2747 non-null   int64  \n",
      " 7   STATUS                2747 non-null   object \n",
      " 8   PRODUCTLINE           2747 non-null   object \n",
      " 9   MSRP                  2747 non-null   int64  \n",
      " 10  PRODUCTCODE           2747 non-null   object \n",
      " 11  CUSTOMERNAME          2747 non-null   object \n",
      " 12  PHONE                 2747 non-null   object \n",
      " 13  ADDRESSLINE1          2747 non-null   object \n",
      " 14  CITY                  2747 non-null   object \n",
      " 15  POSTALCODE            2747 non-null   object \n",
      " 16  COUNTRY               2747 non-null   object \n",
      " 17  CONTACTLASTNAME       2747 non-null   object \n",
      " 18  CONTACTFIRSTNAME      2747 non-null   object \n",
      " 19  DEALSIZE              2747 non-null   object \n",
      "dtypes: float64(2), int64(5), object(13)\n",
      "memory usage: 429.3+ KB\n"
     ]
    }
   ],
   "source": [
    "sales_df.info()"
   ]
  },
  {
   "cell_type": "code",
   "execution_count": 6,
   "id": "26956c4e-ab72-4b98-a9c9-2533bece73d7",
   "metadata": {},
   "outputs": [
    {
     "data": {
      "text/plain": [
       "ORDERNUMBER             0.0\n",
       "QUANTITYORDERED         0.0\n",
       "PRICEEACH               0.0\n",
       "ORDERLINENUMBER         0.0\n",
       "SALES                   0.0\n",
       "ORDERDATE               0.0\n",
       "DAYS_SINCE_LASTORDER    0.0\n",
       "STATUS                  0.0\n",
       "PRODUCTLINE             0.0\n",
       "MSRP                    0.0\n",
       "PRODUCTCODE             0.0\n",
       "CUSTOMERNAME            0.0\n",
       "PHONE                   0.0\n",
       "ADDRESSLINE1            0.0\n",
       "CITY                    0.0\n",
       "POSTALCODE              0.0\n",
       "COUNTRY                 0.0\n",
       "CONTACTLASTNAME         0.0\n",
       "CONTACTFIRSTNAME        0.0\n",
       "DEALSIZE                0.0\n",
       "dtype: float64"
      ]
     },
     "execution_count": 6,
     "metadata": {},
     "output_type": "execute_result"
    }
   ],
   "source": [
    "missing_values = sales_df.isnull().sum()\n",
    "\n",
    "# Calculate missing ratio for each column\n",
    "missing_ratio = (missing_values / len(sales_df)) * 100\n",
    "missing_ratio"
   ]
  },
  {
   "cell_type": "markdown",
   "id": "1fe39b9e-2680-4de6-b9c5-a03332669f59",
   "metadata": {},
   "source": [
    "Từ việc quan sát và tính toán, ta nhận thấy không có cột nào có dữ liệu bi thiếu"
   ]
  },
  {
   "cell_type": "markdown",
   "id": "af6501a3-da31-42dc-82e7-a494d6c8c13d",
   "metadata": {},
   "source": [
    "Kiểm tra nếu có cột nào có cùng giá trị trong tất cả các ô và bỏ đi cột đó"
   ]
  },
  {
   "cell_type": "code",
   "execution_count": 7,
   "id": "4966e0be-bc4b-4216-bbab-8172a1d6d827",
   "metadata": {},
   "outputs": [],
   "source": [
    "for column in sales_df.columns:\n",
    "    if sales_df[column].nunique() == 1:\n",
    "        print(\"Are all values in '{}' the same\".format(column))\n",
    "        sales_df=sales_df.drop(column,axis=1)"
   ]
  },
  {
   "cell_type": "markdown",
   "id": "5ca09a70-7d48-45fc-814f-72b5ff4b7055",
   "metadata": {},
   "source": [
    "Ta có thể thấy rằng không có cột nào cần phải bỏ"
   ]
  },
  {
   "cell_type": "markdown",
   "id": "d24b8cea-5fed-4de0-9f9c-c847bcd550ed",
   "metadata": {},
   "source": [
    "Ta có thể thấy rằng tên cột đều được viết hoa và viết liền, điều mà có thể gây ảnh hưởng tới khả năng đọc, vì vậy chúng ta sẽ viết lại tên cho các cột"
   ]
  },
  {
   "cell_type": "code",
   "execution_count": 8,
   "id": "dd746b5c-b06d-407f-8825-ccec77b2fcda",
   "metadata": {},
   "outputs": [
    {
     "data": {
      "text/plain": [
       "Index(['order_number', 'quantity_ordered', 'price_per_unit',\n",
       "       'orderline_number', 'sales', 'order_date', 'days_since_lastorder',\n",
       "       'status', 'productline', 'retail_price', 'product_code',\n",
       "       'customer_name', 'phone', 'address', 'city', 'postalcode', 'country',\n",
       "       'last_name', 'first_name', 'deal_size'],\n",
       "      dtype='object')"
      ]
     },
     "execution_count": 8,
     "metadata": {},
     "output_type": "execute_result"
    }
   ],
   "source": [
    "def lower_case(dataframe):\n",
    "    dataframe.columns = dataframe.columns.map(lambda x: x.lower())  \n",
    "lower_case(sales_df)\n",
    "sales_df.rename(columns= {'ordernumber': 'order_number','quantityordered': 'quantity_ordered','priceeach':'price_per_unit','orderlinenumber':'orderline_number',\n",
    "'orderdate':'order_date','customername':'customer_name','contactlastname':'last_name','contactfirstname':'first_name','msrp':'retail_price','dealsize':'deal_size','addressline1':'address','productcode':'product_code'},inplace=True)\n",
    "sales_df.columns"
   ]
  },
  {
   "cell_type": "markdown",
   "id": "aead3274-2c4f-44a8-933c-26d284a6dff1",
   "metadata": {},
   "source": [
    "## CATEGORICAL COLUMNS"
   ]
  },
  {
   "cell_type": "markdown",
   "id": "c7cfc621-b970-449d-a692-444c9e75065d",
   "metadata": {},
   "source": [
    "Chuyển đổi cột `order_date` thành dạng datetime "
   ]
  },
  {
   "cell_type": "code",
   "execution_count": 9,
   "id": "aed6f4b8-ea9f-4e9f-8887-3d9273f3e55f",
   "metadata": {},
   "outputs": [],
   "source": [
    "#convert the data type of the orderdate\n",
    "sales_df[\"order_date\"] = pd.to_datetime(sales_df[\"order_date\"],dayfirst = True)\n"
   ]
  },
  {
   "cell_type": "markdown",
   "id": "c18b27d4-d4dc-4e62-832a-7c520064deca",
   "metadata": {},
   "source": [
    "Một giá trị trong cột `order_number` là id của đơn hàng cụ thể, vì vậy, ta sẽ chuyển nó thành dạng object "
   ]
  },
  {
   "cell_type": "code",
   "execution_count": 10,
   "id": "9d739289-8e84-44b3-9445-f4ef7fce3632",
   "metadata": {},
   "outputs": [],
   "source": [
    "sales_df['order_number'] = sales_df['order_number'].astype('object')"
   ]
  },
  {
   "cell_type": "code",
   "execution_count": 11,
   "id": "a6a4539a-305e-483f-bea2-624cec1e432f",
   "metadata": {},
   "outputs": [
    {
     "name": "stdout",
     "output_type": "stream",
     "text": [
      "<class 'pandas.core.frame.DataFrame'>\n",
      "RangeIndex: 2747 entries, 0 to 2746\n",
      "Data columns (total 20 columns):\n",
      " #   Column                Non-Null Count  Dtype         \n",
      "---  ------                --------------  -----         \n",
      " 0   order_number          2747 non-null   object        \n",
      " 1   quantity_ordered      2747 non-null   int64         \n",
      " 2   price_per_unit        2747 non-null   float64       \n",
      " 3   orderline_number      2747 non-null   int64         \n",
      " 4   sales                 2747 non-null   float64       \n",
      " 5   order_date            2747 non-null   datetime64[ns]\n",
      " 6   days_since_lastorder  2747 non-null   int64         \n",
      " 7   status                2747 non-null   object        \n",
      " 8   productline           2747 non-null   object        \n",
      " 9   retail_price          2747 non-null   int64         \n",
      " 10  product_code          2747 non-null   object        \n",
      " 11  customer_name         2747 non-null   object        \n",
      " 12  phone                 2747 non-null   object        \n",
      " 13  address               2747 non-null   object        \n",
      " 14  city                  2747 non-null   object        \n",
      " 15  postalcode            2747 non-null   object        \n",
      " 16  country               2747 non-null   object        \n",
      " 17  last_name             2747 non-null   object        \n",
      " 18  first_name            2747 non-null   object        \n",
      " 19  deal_size             2747 non-null   object        \n",
      "dtypes: datetime64[ns](1), float64(2), int64(4), object(13)\n",
      "memory usage: 429.3+ KB\n"
     ]
    }
   ],
   "source": [
    "sales_df.info()"
   ]
  },
  {
   "cell_type": "markdown",
   "id": "05189ac5-4fd8-4e26-9ef9-5f211455dcad",
   "metadata": {},
   "source": [
    "Sau khi hoàn thành việc chuyển đổi, ta đếm các giá trị xuất hiện trong các cột dữ liệu dạng categorical"
   ]
  },
  {
   "cell_type": "code",
   "execution_count": 12,
   "id": "2968e945-d5da-432c-adda-98dab68f0f9e",
   "metadata": {},
   "outputs": [
    {
     "data": {
      "text/html": [
       "<div>\n",
       "<style scoped>\n",
       "    .dataframe tbody tr th:only-of-type {\n",
       "        vertical-align: middle;\n",
       "    }\n",
       "\n",
       "    .dataframe tbody tr th {\n",
       "        vertical-align: top;\n",
       "    }\n",
       "\n",
       "    .dataframe thead th {\n",
       "        text-align: right;\n",
       "    }\n",
       "</style>\n",
       "<table border=\"1\" class=\"dataframe\">\n",
       "  <thead>\n",
       "    <tr style=\"text-align: right;\">\n",
       "      <th></th>\n",
       "      <th>order_number</th>\n",
       "      <th>status</th>\n",
       "      <th>productline</th>\n",
       "      <th>product_code</th>\n",
       "      <th>customer_name</th>\n",
       "      <th>phone</th>\n",
       "      <th>address</th>\n",
       "      <th>city</th>\n",
       "      <th>country</th>\n",
       "      <th>last_name</th>\n",
       "      <th>first_name</th>\n",
       "      <th>deal_size</th>\n",
       "    </tr>\n",
       "  </thead>\n",
       "  <tbody>\n",
       "    <tr>\n",
       "      <th>num_diff_vals</th>\n",
       "      <td>298</td>\n",
       "      <td>6</td>\n",
       "      <td>7</td>\n",
       "      <td>109</td>\n",
       "      <td>89</td>\n",
       "      <td>88</td>\n",
       "      <td>89</td>\n",
       "      <td>71</td>\n",
       "      <td>19</td>\n",
       "      <td>76</td>\n",
       "      <td>72</td>\n",
       "      <td>3</td>\n",
       "    </tr>\n",
       "    <tr>\n",
       "      <th>distribution</th>\n",
       "      <td>{10106: 18, 10165: 18, 10168: 18, 10316: 18, 1...</td>\n",
       "      <td>{'Shipped': 2541, 'Cancelled': 60, 'Resolved':...</td>\n",
       "      <td>{'Classic Cars': 949, 'Vintage Cars': 579, 'Mo...</td>\n",
       "      <td>{'S18_3232': 51, 'S32_2509': 28, 'S50_1392': 2...</td>\n",
       "      <td>{'Euro Shopping Channel': 259, 'Mini Gifts Dis...</td>\n",
       "      <td>{'(91) 555 94 44': 259, '4155551450': 180, '03...</td>\n",
       "      <td>{'C/ Moralzarzal, 86': 259, '5677 Strong St.':...</td>\n",
       "      <td>{'Madrid': 304, 'San Rafael': 180, 'NYC': 152,...</td>\n",
       "      <td>{'USA': 928, 'Spain': 342, 'France': 314, 'Aus...</td>\n",
       "      <td>{'Freyre': 259, 'Nelson': 204, 'Young': 115, '...</td>\n",
       "      <td>{'Diego': 259, 'Valarie': 257, 'Sue': 84, 'Mic...</td>\n",
       "      <td>{'Medium': 1349, 'Small': 1246, 'Large': 152}</td>\n",
       "    </tr>\n",
       "  </tbody>\n",
       "</table>\n",
       "</div>"
      ],
      "text/plain": [
       "                                                    order_number  \\\n",
       "num_diff_vals                                                298   \n",
       "distribution   {10106: 18, 10165: 18, 10168: 18, 10316: 18, 1...   \n",
       "\n",
       "                                                          status  \\\n",
       "num_diff_vals                                                  6   \n",
       "distribution   {'Shipped': 2541, 'Cancelled': 60, 'Resolved':...   \n",
       "\n",
       "                                                     productline  \\\n",
       "num_diff_vals                                                  7   \n",
       "distribution   {'Classic Cars': 949, 'Vintage Cars': 579, 'Mo...   \n",
       "\n",
       "                                                    product_code  \\\n",
       "num_diff_vals                                                109   \n",
       "distribution   {'S18_3232': 51, 'S32_2509': 28, 'S50_1392': 2...   \n",
       "\n",
       "                                                   customer_name  \\\n",
       "num_diff_vals                                                 89   \n",
       "distribution   {'Euro Shopping Channel': 259, 'Mini Gifts Dis...   \n",
       "\n",
       "                                                           phone  \\\n",
       "num_diff_vals                                                 88   \n",
       "distribution   {'(91) 555 94 44': 259, '4155551450': 180, '03...   \n",
       "\n",
       "                                                         address  \\\n",
       "num_diff_vals                                                 89   \n",
       "distribution   {'C/ Moralzarzal, 86': 259, '5677 Strong St.':...   \n",
       "\n",
       "                                                            city  \\\n",
       "num_diff_vals                                                 71   \n",
       "distribution   {'Madrid': 304, 'San Rafael': 180, 'NYC': 152,...   \n",
       "\n",
       "                                                         country  \\\n",
       "num_diff_vals                                                 19   \n",
       "distribution   {'USA': 928, 'Spain': 342, 'France': 314, 'Aus...   \n",
       "\n",
       "                                                       last_name  \\\n",
       "num_diff_vals                                                 76   \n",
       "distribution   {'Freyre': 259, 'Nelson': 204, 'Young': 115, '...   \n",
       "\n",
       "                                                      first_name  \\\n",
       "num_diff_vals                                                 72   \n",
       "distribution   {'Diego': 259, 'Valarie': 257, 'Sue': 84, 'Mic...   \n",
       "\n",
       "                                                   deal_size  \n",
       "num_diff_vals                                              3  \n",
       "distribution   {'Medium': 1349, 'Small': 1246, 'Large': 152}  "
      ]
     },
     "execution_count": 12,
     "metadata": {},
     "output_type": "execute_result"
    }
   ],
   "source": [
    "columns_to_count=['order_number', 'status','productline','product_code','customer_name','phone','address','city','country','last_name','first_name','deal_size']\n",
    "df=sales_df[columns_to_count]\n",
    "cate_profile={}\n",
    "def valuecount(col):\n",
    "    # Count the occurrences of each attribute in the column\n",
    "    unique_attributes = df[col.name].value_counts().to_dict()\n",
    "    cate_profile[col.name]= {\"num_diff_vals\": len(unique_attributes), \"distribution\": unique_attributes}\n",
    "df.agg(valuecount)\n",
    "cate_profile=pd.DataFrame(data=cate_profile,index=[\"num_diff_vals\", \"distribution\"])\n",
    "\n",
    "cate_profile"
   ]
  },
  {
   "cell_type": "markdown",
   "id": "39b52ec6-33c7-4a8d-9f1e-258c76db159f",
   "metadata": {},
   "source": [
    "### Có giá trị nào bất thường không?\n",
    "- Không có cột nào có giá trị bất thường.\n",
    "\n",
    "Tiếp đó, ta dùng describe() để khám phá sâu hơn về dữ liệu."
   ]
  },
  {
   "cell_type": "code",
   "execution_count": 13,
   "id": "0e870e72-1700-42a8-8af8-09087c0f5ea9",
   "metadata": {},
   "outputs": [
    {
     "data": {
      "text/html": [
       "<div>\n",
       "<style scoped>\n",
       "    .dataframe tbody tr th:only-of-type {\n",
       "        vertical-align: middle;\n",
       "    }\n",
       "\n",
       "    .dataframe tbody tr th {\n",
       "        vertical-align: top;\n",
       "    }\n",
       "\n",
       "    .dataframe thead th {\n",
       "        text-align: right;\n",
       "    }\n",
       "</style>\n",
       "<table border=\"1\" class=\"dataframe\">\n",
       "  <thead>\n",
       "    <tr style=\"text-align: right;\">\n",
       "      <th></th>\n",
       "      <th>order_number</th>\n",
       "      <th>status</th>\n",
       "      <th>productline</th>\n",
       "      <th>product_code</th>\n",
       "      <th>customer_name</th>\n",
       "      <th>phone</th>\n",
       "      <th>address</th>\n",
       "      <th>city</th>\n",
       "      <th>postalcode</th>\n",
       "      <th>country</th>\n",
       "      <th>last_name</th>\n",
       "      <th>first_name</th>\n",
       "      <th>deal_size</th>\n",
       "    </tr>\n",
       "  </thead>\n",
       "  <tbody>\n",
       "    <tr>\n",
       "      <th>count</th>\n",
       "      <td>2747</td>\n",
       "      <td>2747</td>\n",
       "      <td>2747</td>\n",
       "      <td>2747</td>\n",
       "      <td>2747</td>\n",
       "      <td>2747</td>\n",
       "      <td>2747</td>\n",
       "      <td>2747</td>\n",
       "      <td>2747</td>\n",
       "      <td>2747</td>\n",
       "      <td>2747</td>\n",
       "      <td>2747</td>\n",
       "      <td>2747</td>\n",
       "    </tr>\n",
       "    <tr>\n",
       "      <th>unique</th>\n",
       "      <td>298</td>\n",
       "      <td>6</td>\n",
       "      <td>7</td>\n",
       "      <td>109</td>\n",
       "      <td>89</td>\n",
       "      <td>88</td>\n",
       "      <td>89</td>\n",
       "      <td>71</td>\n",
       "      <td>73</td>\n",
       "      <td>19</td>\n",
       "      <td>76</td>\n",
       "      <td>72</td>\n",
       "      <td>3</td>\n",
       "    </tr>\n",
       "    <tr>\n",
       "      <th>top</th>\n",
       "      <td>10106</td>\n",
       "      <td>Shipped</td>\n",
       "      <td>Classic Cars</td>\n",
       "      <td>S18_3232</td>\n",
       "      <td>Euro Shopping Channel</td>\n",
       "      <td>(91) 555 94 44</td>\n",
       "      <td>C/ Moralzarzal, 86</td>\n",
       "      <td>Madrid</td>\n",
       "      <td>28034</td>\n",
       "      <td>USA</td>\n",
       "      <td>Freyre</td>\n",
       "      <td>Diego</td>\n",
       "      <td>Medium</td>\n",
       "    </tr>\n",
       "    <tr>\n",
       "      <th>freq</th>\n",
       "      <td>18</td>\n",
       "      <td>2541</td>\n",
       "      <td>949</td>\n",
       "      <td>51</td>\n",
       "      <td>259</td>\n",
       "      <td>259</td>\n",
       "      <td>259</td>\n",
       "      <td>304</td>\n",
       "      <td>259</td>\n",
       "      <td>928</td>\n",
       "      <td>259</td>\n",
       "      <td>259</td>\n",
       "      <td>1349</td>\n",
       "    </tr>\n",
       "  </tbody>\n",
       "</table>\n",
       "</div>"
      ],
      "text/plain": [
       "        order_number   status   productline product_code  \\\n",
       "count           2747     2747          2747         2747   \n",
       "unique           298        6             7          109   \n",
       "top            10106  Shipped  Classic Cars     S18_3232   \n",
       "freq              18     2541           949           51   \n",
       "\n",
       "                customer_name           phone             address    city  \\\n",
       "count                    2747            2747                2747    2747   \n",
       "unique                     89              88                  89      71   \n",
       "top     Euro Shopping Channel  (91) 555 94 44  C/ Moralzarzal, 86  Madrid   \n",
       "freq                      259             259                 259     304   \n",
       "\n",
       "       postalcode country last_name first_name deal_size  \n",
       "count        2747    2747      2747       2747      2747  \n",
       "unique         73      19        76         72         3  \n",
       "top         28034     USA    Freyre      Diego    Medium  \n",
       "freq          259     928       259        259      1349  "
      ]
     },
     "execution_count": 13,
     "metadata": {},
     "output_type": "execute_result"
    }
   ],
   "source": [
    "sales_df.describe(include='object')"
   ]
  },
  {
   "cell_type": "markdown",
   "id": "f2715d80-fcbd-48b7-b666-1dd761d4d798",
   "metadata": {},
   "source": [
    "## NUMERIC COLUMNS"
   ]
  },
  {
   "cell_type": "code",
   "execution_count": 14,
   "id": "02061818-792b-49fc-9d81-78d0ca5e5453",
   "metadata": {},
   "outputs": [
    {
     "data": {
      "text/html": [
       "<div>\n",
       "<style scoped>\n",
       "    .dataframe tbody tr th:only-of-type {\n",
       "        vertical-align: middle;\n",
       "    }\n",
       "\n",
       "    .dataframe tbody tr th {\n",
       "        vertical-align: top;\n",
       "    }\n",
       "\n",
       "    .dataframe thead th {\n",
       "        text-align: right;\n",
       "    }\n",
       "</style>\n",
       "<table border=\"1\" class=\"dataframe\">\n",
       "  <thead>\n",
       "    <tr style=\"text-align: right;\">\n",
       "      <th></th>\n",
       "      <th>quantity_ordered</th>\n",
       "      <th>price_per_unit</th>\n",
       "      <th>orderline_number</th>\n",
       "      <th>sales</th>\n",
       "      <th>days_since_lastorder</th>\n",
       "      <th>retail_price</th>\n",
       "    </tr>\n",
       "  </thead>\n",
       "  <tbody>\n",
       "    <tr>\n",
       "      <th>mean</th>\n",
       "      <td>35.1</td>\n",
       "      <td>101.1</td>\n",
       "      <td>6.5</td>\n",
       "      <td>3553.0</td>\n",
       "      <td>1757.1</td>\n",
       "      <td>100.7</td>\n",
       "    </tr>\n",
       "    <tr>\n",
       "      <th>std</th>\n",
       "      <td>9.8</td>\n",
       "      <td>42.0</td>\n",
       "      <td>4.2</td>\n",
       "      <td>1839.0</td>\n",
       "      <td>819.3</td>\n",
       "      <td>40.1</td>\n",
       "    </tr>\n",
       "    <tr>\n",
       "      <th>min</th>\n",
       "      <td>6.0</td>\n",
       "      <td>26.9</td>\n",
       "      <td>1.0</td>\n",
       "      <td>482.1</td>\n",
       "      <td>42.0</td>\n",
       "      <td>33.0</td>\n",
       "    </tr>\n",
       "    <tr>\n",
       "      <th>25%</th>\n",
       "      <td>27.0</td>\n",
       "      <td>68.7</td>\n",
       "      <td>3.0</td>\n",
       "      <td>2204.4</td>\n",
       "      <td>1077.0</td>\n",
       "      <td>68.0</td>\n",
       "    </tr>\n",
       "    <tr>\n",
       "      <th>50%</th>\n",
       "      <td>35.0</td>\n",
       "      <td>95.6</td>\n",
       "      <td>6.0</td>\n",
       "      <td>3184.8</td>\n",
       "      <td>1761.0</td>\n",
       "      <td>99.0</td>\n",
       "    </tr>\n",
       "    <tr>\n",
       "      <th>75%</th>\n",
       "      <td>43.0</td>\n",
       "      <td>127.1</td>\n",
       "      <td>9.0</td>\n",
       "      <td>4503.1</td>\n",
       "      <td>2436.5</td>\n",
       "      <td>124.0</td>\n",
       "    </tr>\n",
       "    <tr>\n",
       "      <th>max</th>\n",
       "      <td>97.0</td>\n",
       "      <td>252.9</td>\n",
       "      <td>18.0</td>\n",
       "      <td>14082.8</td>\n",
       "      <td>3562.0</td>\n",
       "      <td>214.0</td>\n",
       "    </tr>\n",
       "  </tbody>\n",
       "</table>\n",
       "</div>"
      ],
      "text/plain": [
       "      quantity_ordered  price_per_unit  orderline_number    sales  \\\n",
       "mean              35.1           101.1               6.5   3553.0   \n",
       "std                9.8            42.0               4.2   1839.0   \n",
       "min                6.0            26.9               1.0    482.1   \n",
       "25%               27.0            68.7               3.0   2204.4   \n",
       "50%               35.0            95.6               6.0   3184.8   \n",
       "75%               43.0           127.1               9.0   4503.1   \n",
       "max               97.0           252.9              18.0  14082.8   \n",
       "\n",
       "      days_since_lastorder  retail_price  \n",
       "mean                1757.1         100.7  \n",
       "std                  819.3          40.1  \n",
       "min                   42.0          33.0  \n",
       "25%                 1077.0          68.0  \n",
       "50%                 1761.0          99.0  \n",
       "75%                 2436.5         124.0  \n",
       "max                 3562.0         214.0  "
      ]
     },
     "execution_count": 14,
     "metadata": {},
     "output_type": "execute_result"
    }
   ],
   "source": [
    "numeric_cols=['order_number','quantity_ordered','price_per_unit','orderline_number','sales','days_since_lastorder','retail_price']\n",
    "numeric_col_profile = sales_df[numeric_cols].describe()[1:].round(1)\n",
    "numeric_col_profile"
   ]
  },
  {
   "cell_type": "markdown",
   "id": "c69c9e77-6d1a-4767-a53a-4739d2009fc0",
   "metadata": {},
   "source": [
    "Sau khi hoàn thành việc tiền xử lí dữ liệu, ta lưu dữ liệu đã xử lý vào tệp csv mới để sang bước tiếp theo"
   ]
  },
  {
   "cell_type": "code",
   "execution_count": 15,
   "id": "01788557-3558-46d9-944b-044bb256aedd",
   "metadata": {},
   "outputs": [],
   "source": [
    "sales_df.to_csv('./../data/Processed.csv')"
   ]
  }
 ],
 "metadata": {
  "kernelspec": {
   "display_name": "Python 3 (ipykernel)",
   "language": "python",
   "name": "python3"
  },
  "language_info": {
   "codemirror_mode": {
    "name": "ipython",
    "version": 3
   },
   "file_extension": ".py",
   "mimetype": "text/x-python",
   "name": "python",
   "nbconvert_exporter": "python",
   "pygments_lexer": "ipython3",
   "version": "3.10.8"
  }
 },
 "nbformat": 4,
 "nbformat_minor": 5
}
