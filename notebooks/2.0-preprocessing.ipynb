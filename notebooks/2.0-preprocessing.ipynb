{
 "cells": [
  {
   "cell_type": "markdown",
   "id": "5b9e1b22-3827-40bd-89ea-c00564317196",
   "metadata": {},
   "source": [
    "<div style=\"text-align: center; background-color: #0A6EBD; font-family: 'Trebuchet MS', Arial, sans-serif; color: white; padding: 20px; font-size: 40px; font-weight: bold; border-radius: 0 0 0 0; box-shadow: 0px 6px 8px rgba(0, 0, 0, 0.2);\">\n",
    "  Final Project - Programming for Data Science\n",
    "    <div style=\"text-align: center; background-color: #0A6EBD; font-family: 'Trebuchet MS', Arial, sans-serif; color: white; padding: 20px; font-size: 40px; font-weight: bold; border-radius: 0 0 0 0; box-shadow: 0px 6px 8px rgba(0, 0, 0, 0.2);\">\n",
    "    @ FIT-HCMUS, VNU-HCM 📌\n",
    "</div>"
   ]
  },
  {
   "cell_type": "markdown",
   "id": "d76320d9-ff98-48c8-8e4c-6888f1835346",
   "metadata": {},
   "source": [
    "<div style=\"text-align: center; background-color: #b1d1ff; font-family: 'Trebuchet MS', Arial, sans-serif; color: white; padding: 20px; font-size: 40px; font-weight: bold; border-radius: 0 0 0 0; box-shadow: 0px 6px 8px rgba(0, 0, 0, 0.2);\">\n",
    "  Stage 02 - Preprocessing\n",
    "</div>"
   ]
  },
  {
   "cell_type": "code",
   "execution_count": 1,
   "id": "cf29dde9-4028-40fa-aebd-f0786f850e17",
   "metadata": {},
   "outputs": [],
   "source": [
    "import numpy as np\n",
    "import pandas as pd\n"
   ]
  },
  {
   "cell_type": "code",
   "execution_count": 2,
   "id": "c1428190-9a41-4ec1-b8ca-570e013f535b",
   "metadata": {},
   "outputs": [
    {
     "data": {
      "text/html": [
       "<div>\n",
       "<style scoped>\n",
       "    .dataframe tbody tr th:only-of-type {\n",
       "        vertical-align: middle;\n",
       "    }\n",
       "\n",
       "    .dataframe tbody tr th {\n",
       "        vertical-align: top;\n",
       "    }\n",
       "\n",
       "    .dataframe thead th {\n",
       "        text-align: right;\n",
       "    }\n",
       "</style>\n",
       "<table border=\"1\" class=\"dataframe\">\n",
       "  <thead>\n",
       "    <tr style=\"text-align: right;\">\n",
       "      <th></th>\n",
       "      <th>ORDERNUMBER</th>\n",
       "      <th>QUANTITYORDERED</th>\n",
       "      <th>PRICEEACH</th>\n",
       "      <th>ORDERLINENUMBER</th>\n",
       "      <th>SALES</th>\n",
       "      <th>ORDERDATE</th>\n",
       "      <th>DAYS_SINCE_LASTORDER</th>\n",
       "      <th>STATUS</th>\n",
       "      <th>PRODUCTLINE</th>\n",
       "      <th>MSRP</th>\n",
       "      <th>PRODUCTCODE</th>\n",
       "      <th>CUSTOMERNAME</th>\n",
       "      <th>PHONE</th>\n",
       "      <th>ADDRESSLINE1</th>\n",
       "      <th>CITY</th>\n",
       "      <th>POSTALCODE</th>\n",
       "      <th>COUNTRY</th>\n",
       "      <th>CONTACTLASTNAME</th>\n",
       "      <th>CONTACTFIRSTNAME</th>\n",
       "      <th>DEALSIZE</th>\n",
       "    </tr>\n",
       "  </thead>\n",
       "  <tbody>\n",
       "    <tr>\n",
       "      <th>813</th>\n",
       "      <td>10312</td>\n",
       "      <td>25</td>\n",
       "      <td>155.25</td>\n",
       "      <td>11</td>\n",
       "      <td>3881.25</td>\n",
       "      <td>21/10/2019</td>\n",
       "      <td>1037</td>\n",
       "      <td>Shipped</td>\n",
       "      <td>Vintage Cars</td>\n",
       "      <td>168</td>\n",
       "      <td>S18_2795</td>\n",
       "      <td>Mini Gifts Distributors Ltd.</td>\n",
       "      <td>4155551450</td>\n",
       "      <td>5677 Strong St.</td>\n",
       "      <td>San Rafael</td>\n",
       "      <td>97562</td>\n",
       "      <td>USA</td>\n",
       "      <td>Nelson</td>\n",
       "      <td>Valarie</td>\n",
       "      <td>Medium</td>\n",
       "    </tr>\n",
       "    <tr>\n",
       "      <th>547</th>\n",
       "      <td>10373</td>\n",
       "      <td>28</td>\n",
       "      <td>57.55</td>\n",
       "      <td>4</td>\n",
       "      <td>1611.40</td>\n",
       "      <td>31/01/2020</td>\n",
       "      <td>669</td>\n",
       "      <td>Shipped</td>\n",
       "      <td>Planes</td>\n",
       "      <td>157</td>\n",
       "      <td>S18_1662</td>\n",
       "      <td>Oulu Toy Supplies, Inc.</td>\n",
       "      <td>981-443655</td>\n",
       "      <td>Torikatu 38</td>\n",
       "      <td>Oulu</td>\n",
       "      <td>90110</td>\n",
       "      <td>Finland</td>\n",
       "      <td>Koskitalo</td>\n",
       "      <td>Pirkko</td>\n",
       "      <td>Small</td>\n",
       "    </tr>\n",
       "    <tr>\n",
       "      <th>122</th>\n",
       "      <td>10414</td>\n",
       "      <td>19</td>\n",
       "      <td>145.52</td>\n",
       "      <td>3</td>\n",
       "      <td>2764.88</td>\n",
       "      <td>06/05/2020</td>\n",
       "      <td>148</td>\n",
       "      <td>On Hold</td>\n",
       "      <td>Classic Cars</td>\n",
       "      <td>136</td>\n",
       "      <td>S10_4757</td>\n",
       "      <td>Gifts4AllAges.com</td>\n",
       "      <td>6175559555</td>\n",
       "      <td>8616 Spinnaker Dr.</td>\n",
       "      <td>Boston</td>\n",
       "      <td>51003</td>\n",
       "      <td>USA</td>\n",
       "      <td>Yoshido</td>\n",
       "      <td>Juri</td>\n",
       "      <td>Small</td>\n",
       "    </tr>\n",
       "    <tr>\n",
       "      <th>867</th>\n",
       "      <td>10347</td>\n",
       "      <td>48</td>\n",
       "      <td>100.30</td>\n",
       "      <td>9</td>\n",
       "      <td>4814.40</td>\n",
       "      <td>29/11/2019</td>\n",
       "      <td>1052</td>\n",
       "      <td>Shipped</td>\n",
       "      <td>Vintage Cars</td>\n",
       "      <td>101</td>\n",
       "      <td>S18_2949</td>\n",
       "      <td>Australian Collectors, Co.</td>\n",
       "      <td>03 9520 4555</td>\n",
       "      <td>636 St Kilda Road</td>\n",
       "      <td>Melbourne</td>\n",
       "      <td>3004</td>\n",
       "      <td>Australia</td>\n",
       "      <td>Ferguson</td>\n",
       "      <td>Peter</td>\n",
       "      <td>Medium</td>\n",
       "    </tr>\n",
       "    <tr>\n",
       "      <th>386</th>\n",
       "      <td>10239</td>\n",
       "      <td>21</td>\n",
       "      <td>93.28</td>\n",
       "      <td>5</td>\n",
       "      <td>1958.88</td>\n",
       "      <td>12/04/2019</td>\n",
       "      <td>802</td>\n",
       "      <td>Shipped</td>\n",
       "      <td>Classic Cars</td>\n",
       "      <td>115</td>\n",
       "      <td>S12_4675</td>\n",
       "      <td>Oulu Toy Supplies, Inc.</td>\n",
       "      <td>981-443655</td>\n",
       "      <td>Torikatu 38</td>\n",
       "      <td>Oulu</td>\n",
       "      <td>90110</td>\n",
       "      <td>Finland</td>\n",
       "      <td>Koskitalo</td>\n",
       "      <td>Pirkko</td>\n",
       "      <td>Small</td>\n",
       "    </tr>\n",
       "  </tbody>\n",
       "</table>\n",
       "</div>"
      ],
      "text/plain": [
       "     ORDERNUMBER  QUANTITYORDERED  PRICEEACH  ORDERLINENUMBER    SALES  \\\n",
       "813        10312               25     155.25               11  3881.25   \n",
       "547        10373               28      57.55                4  1611.40   \n",
       "122        10414               19     145.52                3  2764.88   \n",
       "867        10347               48     100.30                9  4814.40   \n",
       "386        10239               21      93.28                5  1958.88   \n",
       "\n",
       "      ORDERDATE  DAYS_SINCE_LASTORDER   STATUS   PRODUCTLINE  MSRP  \\\n",
       "813  21/10/2019                  1037  Shipped  Vintage Cars   168   \n",
       "547  31/01/2020                   669  Shipped        Planes   157   \n",
       "122  06/05/2020                   148  On Hold  Classic Cars   136   \n",
       "867  29/11/2019                  1052  Shipped  Vintage Cars   101   \n",
       "386  12/04/2019                   802  Shipped  Classic Cars   115   \n",
       "\n",
       "    PRODUCTCODE                  CUSTOMERNAME         PHONE  \\\n",
       "813    S18_2795  Mini Gifts Distributors Ltd.    4155551450   \n",
       "547    S18_1662       Oulu Toy Supplies, Inc.    981-443655   \n",
       "122    S10_4757             Gifts4AllAges.com    6175559555   \n",
       "867    S18_2949    Australian Collectors, Co.  03 9520 4555   \n",
       "386    S12_4675       Oulu Toy Supplies, Inc.    981-443655   \n",
       "\n",
       "           ADDRESSLINE1        CITY POSTALCODE    COUNTRY CONTACTLASTNAME  \\\n",
       "813     5677 Strong St.  San Rafael      97562        USA          Nelson   \n",
       "547         Torikatu 38        Oulu      90110    Finland       Koskitalo   \n",
       "122  8616 Spinnaker Dr.      Boston      51003        USA         Yoshido   \n",
       "867   636 St Kilda Road   Melbourne       3004  Australia        Ferguson   \n",
       "386         Torikatu 38        Oulu      90110    Finland       Koskitalo   \n",
       "\n",
       "    CONTACTFIRSTNAME DEALSIZE  \n",
       "813          Valarie   Medium  \n",
       "547           Pirkko    Small  \n",
       "122             Juri    Small  \n",
       "867            Peter   Medium  \n",
       "386           Pirkko    Small  "
      ]
     },
     "execution_count": 2,
     "metadata": {},
     "output_type": "execute_result"
    }
   ],
   "source": [
    "sales_df=pd.read_csv('./../data/Auto Sales data.csv',delimiter=\",\")\n",
    "sales_df.sample(n=5)"
   ]
  },
  {
   "cell_type": "code",
   "execution_count": 3,
   "id": "3e125298-071d-4a3a-98d3-124e7195c24c",
   "metadata": {},
   "outputs": [
    {
     "data": {
      "text/plain": [
       "(2747, 20)"
      ]
     },
     "execution_count": 3,
     "metadata": {},
     "output_type": "execute_result"
    }
   ],
   "source": [
    "n_rows=sales_df.shape[0]\n",
    "n_cols=sales_df.shape[1]\n",
    "n_rows, n_cols"
   ]
  },
  {
   "cell_type": "markdown",
   "id": "d06cd73f-7347-4e94-9a66-27de745c46b5",
   "metadata": {},
   "source": [
    "Meaning of each column\n",
    "- `ORDERNUMBER`: The unique identifier for each order.\n",
    "- `QUANTITYORDERED`: The quantity of the product ordered in each transaction.\n",
    "- `PRICEEACH`: The price per unit of the product.\n",
    "- `ORDERLINENUMBER`: The line number of the product in the order.\n",
    "- `SALES`: The total sales amount for the product in that specific order (calculated as QUANTITYORDERED * PRICEEACH).\n",
    "- `ORDERDATE`: The date when the order was placed.\n",
    "- `DAYS_SINCE_LASTORDER`: The number of days since the last order.\n",
    "- `STATUS`: The status of the order (e.g., Shipped, Cancelled).\n",
    "- `PRODUCTLINE`: The category or type of the product.\n",
    "- `MSRP`: Manufacturer's Suggested Retail Price.\n",
    "- `PRODUCTCODE`: The code or identifier for the product.\n",
    "- `CUSTOMERNAME`: The name of the customer who placed the order.\n",
    "- `PHONE`: The phone number of the customer.\n",
    "- `ADDRESSLINE1`: The first line of the customer's address.\n",
    "- `CITY`: The city where the customer is located.\n",
    "- `POSTALCODE`: The postal code of the customer's address.\n",
    "- `COUNTRY`: The country where the customer is located.\n",
    "- `CONTACTLASTNAME`: The last name of the contact person for the order.\n",
    "- `CONTACTFIRSTNAME`: The first name of the contact person for the order.\n",
    "- `DEALSIZE`: The size of the deal (e.g., Small, Medium).\n",
    "\n",
    "Meaning of each row: Each row represents a specific order with details about the product, customer, and order information.\n",
    "\n",
    "After finding meaning of each rows, each columns in the data, we check whether data have duplicate rows"
   ]
  },
  {
   "cell_type": "code",
   "execution_count": 4,
   "id": "bf886693-0d21-4483-9779-709aa747eaf9",
   "metadata": {},
   "outputs": [
    {
     "data": {
      "text/plain": [
       "0"
      ]
     },
     "execution_count": 4,
     "metadata": {},
     "output_type": "execute_result"
    }
   ],
   "source": [
    "duplicated_rows = sales_df[sales_df.duplicated()]\n",
    "len(duplicated_rows)"
   ]
  },
  {
   "cell_type": "markdown",
   "id": "fb1e929e-a326-40d6-b357-37da78a39520",
   "metadata": {},
   "source": [
    "There is no duplicate row in data.Now, We need to find how many percentage of missing data there are."
   ]
  },
  {
   "cell_type": "code",
   "execution_count": 5,
   "id": "ff685f86-e26e-4d2a-9d59-9b7c8eaddaa6",
   "metadata": {},
   "outputs": [
    {
     "name": "stdout",
     "output_type": "stream",
     "text": [
      "<class 'pandas.core.frame.DataFrame'>\n",
      "RangeIndex: 2747 entries, 0 to 2746\n",
      "Data columns (total 20 columns):\n",
      " #   Column                Non-Null Count  Dtype  \n",
      "---  ------                --------------  -----  \n",
      " 0   ORDERNUMBER           2747 non-null   int64  \n",
      " 1   QUANTITYORDERED       2747 non-null   int64  \n",
      " 2   PRICEEACH             2747 non-null   float64\n",
      " 3   ORDERLINENUMBER       2747 non-null   int64  \n",
      " 4   SALES                 2747 non-null   float64\n",
      " 5   ORDERDATE             2747 non-null   object \n",
      " 6   DAYS_SINCE_LASTORDER  2747 non-null   int64  \n",
      " 7   STATUS                2747 non-null   object \n",
      " 8   PRODUCTLINE           2747 non-null   object \n",
      " 9   MSRP                  2747 non-null   int64  \n",
      " 10  PRODUCTCODE           2747 non-null   object \n",
      " 11  CUSTOMERNAME          2747 non-null   object \n",
      " 12  PHONE                 2747 non-null   object \n",
      " 13  ADDRESSLINE1          2747 non-null   object \n",
      " 14  CITY                  2747 non-null   object \n",
      " 15  POSTALCODE            2747 non-null   object \n",
      " 16  COUNTRY               2747 non-null   object \n",
      " 17  CONTACTLASTNAME       2747 non-null   object \n",
      " 18  CONTACTFIRSTNAME      2747 non-null   object \n",
      " 19  DEALSIZE              2747 non-null   object \n",
      "dtypes: float64(2), int64(5), object(13)\n",
      "memory usage: 429.3+ KB\n"
     ]
    }
   ],
   "source": [
    "sales_df.info()"
   ]
  },
  {
   "cell_type": "markdown",
   "id": "7534430f-adb6-4f8b-a0c4-41f01c0d76df",
   "metadata": {},
   "source": [
    "Now we will caculate missing percent of each column"
   ]
  },
  {
   "cell_type": "code",
   "execution_count": 6,
   "id": "26956c4e-ab72-4b98-a9c9-2533bece73d7",
   "metadata": {},
   "outputs": [
    {
     "data": {
      "text/plain": [
       "ORDERNUMBER             0.0\n",
       "QUANTITYORDERED         0.0\n",
       "PRICEEACH               0.0\n",
       "ORDERLINENUMBER         0.0\n",
       "SALES                   0.0\n",
       "ORDERDATE               0.0\n",
       "DAYS_SINCE_LASTORDER    0.0\n",
       "STATUS                  0.0\n",
       "PRODUCTLINE             0.0\n",
       "MSRP                    0.0\n",
       "PRODUCTCODE             0.0\n",
       "CUSTOMERNAME            0.0\n",
       "PHONE                   0.0\n",
       "ADDRESSLINE1            0.0\n",
       "CITY                    0.0\n",
       "POSTALCODE              0.0\n",
       "COUNTRY                 0.0\n",
       "CONTACTLASTNAME         0.0\n",
       "CONTACTFIRSTNAME        0.0\n",
       "DEALSIZE                0.0\n",
       "dtype: float64"
      ]
     },
     "execution_count": 6,
     "metadata": {},
     "output_type": "execute_result"
    }
   ],
   "source": [
    "missing_values = sales_df.isnull().sum()\n",
    "\n",
    "# Calculate missing ratio for each column\n",
    "missing_ratio = (missing_values / len(sales_df)) * 100\n",
    "missing_ratio"
   ]
  },
  {
   "cell_type": "markdown",
   "id": "1fe39b9e-2680-4de6-b9c5-a03332669f59",
   "metadata": {},
   "source": [
    "From observing data and the result, there is no columns that have missing data"
   ]
  },
  {
   "cell_type": "markdown",
   "id": "af6501a3-da31-42dc-82e7-a494d6c8c13d",
   "metadata": {},
   "source": [
    "Check if any columns have same value in every cells and drop that columns"
   ]
  },
  {
   "cell_type": "code",
   "execution_count": 7,
   "id": "4966e0be-bc4b-4216-bbab-8172a1d6d827",
   "metadata": {},
   "outputs": [],
   "source": [
    "for column in sales_df.columns:\n",
    "    if sales_df[column].nunique() == 1:\n",
    "        print(\"Are all values in '{}' the same\".format(column))\n",
    "        sales_df=sales_df.drop(column,axis=1)"
   ]
  },
  {
   "cell_type": "markdown",
   "id": "5ca09a70-7d48-45fc-814f-72b5ff4b7055",
   "metadata": {},
   "source": [
    "we can see there is no columns that need to be drop"
   ]
  },
  {
   "cell_type": "markdown",
   "id": "d24b8cea-5fed-4de0-9f9c-c847bcd550ed",
   "metadata": {},
   "source": [
    "We can see that the columns name all are uppercase and that might affect to readability, so we will rename columns"
   ]
  },
  {
   "cell_type": "code",
   "execution_count": 8,
   "id": "dd746b5c-b06d-407f-8825-ccec77b2fcda",
   "metadata": {},
   "outputs": [
    {
     "data": {
      "text/plain": [
       "Index(['order_number', 'quantity_ordered', 'price_per_unit',\n",
       "       'orderline_number', 'sales', 'order_date', 'days_since_lastorder',\n",
       "       'status', 'productline', 'retail_price', 'product_code',\n",
       "       'customer_name', 'phone', 'address', 'city', 'postalcode', 'country',\n",
       "       'last_name', 'first_name', 'deal_size'],\n",
       "      dtype='object')"
      ]
     },
     "execution_count": 8,
     "metadata": {},
     "output_type": "execute_result"
    }
   ],
   "source": [
    "def lower_case(dataframe):\n",
    "    dataframe.columns = dataframe.columns.map(lambda x: x.lower())  \n",
    "lower_case(sales_df)\n",
    "sales_df.rename(columns= {'ordernumber': 'order_number','quantityordered': 'quantity_ordered','priceeach':'price_per_unit','orderlinenumber':'orderline_number',\n",
    "'orderdate':'order_date','customername':'customer_name','contactlastname':'last_name','contactfirstname':'first_name','msrp':'retail_price','dealsize':'deal_size','addressline1':'address','productcode':'product_code'},inplace=True)\n",
    "sales_df.columns"
   ]
  },
  {
   "cell_type": "markdown",
   "id": "aead3274-2c4f-44a8-933c-26d284a6dff1",
   "metadata": {},
   "source": [
    "## CATEGORICAL COLUMNS"
   ]
  },
  {
   "cell_type": "markdown",
   "id": "c7cfc621-b970-449d-a692-444c9e75065d",
   "metadata": {},
   "source": [
    "Convert columns `order_date` to datetime"
   ]
  },
  {
   "cell_type": "code",
   "execution_count": 9,
   "id": "aed6f4b8-ea9f-4e9f-8887-3d9273f3e55f",
   "metadata": {},
   "outputs": [],
   "source": [
    "#convert the data type of the orderdate\n",
    "sales_df[\"order_date\"] = pd.to_datetime(sales_df[\"order_date\"],dayfirst = True)\n"
   ]
  },
  {
   "cell_type": "markdown",
   "id": "c18b27d4-d4dc-4e62-832a-7c520064deca",
   "metadata": {},
   "source": [
    "A value in `order_number` columns is the id of a specific order, so we will convert it to object type "
   ]
  },
  {
   "cell_type": "code",
   "execution_count": 10,
   "id": "9d739289-8e84-44b3-9445-f4ef7fce3632",
   "metadata": {},
   "outputs": [],
   "source": [
    "sales_df['order_number'] = sales_df['order_number'].astype('object')"
   ]
  },
  {
   "cell_type": "code",
   "execution_count": 11,
   "id": "a6a4539a-305e-483f-bea2-624cec1e432f",
   "metadata": {},
   "outputs": [
    {
     "name": "stdout",
     "output_type": "stream",
     "text": [
      "<class 'pandas.core.frame.DataFrame'>\n",
      "RangeIndex: 2747 entries, 0 to 2746\n",
      "Data columns (total 20 columns):\n",
      " #   Column                Non-Null Count  Dtype         \n",
      "---  ------                --------------  -----         \n",
      " 0   order_number          2747 non-null   object        \n",
      " 1   quantity_ordered      2747 non-null   int64         \n",
      " 2   price_per_unit        2747 non-null   float64       \n",
      " 3   orderline_number      2747 non-null   int64         \n",
      " 4   sales                 2747 non-null   float64       \n",
      " 5   order_date            2747 non-null   datetime64[ns]\n",
      " 6   days_since_lastorder  2747 non-null   int64         \n",
      " 7   status                2747 non-null   object        \n",
      " 8   productline           2747 non-null   object        \n",
      " 9   retail_price          2747 non-null   int64         \n",
      " 10  product_code          2747 non-null   object        \n",
      " 11  customer_name         2747 non-null   object        \n",
      " 12  phone                 2747 non-null   object        \n",
      " 13  address               2747 non-null   object        \n",
      " 14  city                  2747 non-null   object        \n",
      " 15  postalcode            2747 non-null   object        \n",
      " 16  country               2747 non-null   object        \n",
      " 17  last_name             2747 non-null   object        \n",
      " 18  first_name            2747 non-null   object        \n",
      " 19  deal_size             2747 non-null   object        \n",
      "dtypes: datetime64[ns](1), float64(2), int64(4), object(13)\n",
      "memory usage: 429.3+ KB\n"
     ]
    }
   ],
   "source": [
    "sales_df.info()"
   ]
  },
  {
   "cell_type": "markdown",
   "id": "05189ac5-4fd8-4e26-9ef9-5f211455dcad",
   "metadata": {},
   "source": [
    "After converting done, we count unique value of categorical columns  "
   ]
  },
  {
   "cell_type": "code",
   "execution_count": 12,
   "id": "2968e945-d5da-432c-adda-98dab68f0f9e",
   "metadata": {},
   "outputs": [
    {
     "data": {
      "text/html": [
       "<div>\n",
       "<style scoped>\n",
       "    .dataframe tbody tr th:only-of-type {\n",
       "        vertical-align: middle;\n",
       "    }\n",
       "\n",
       "    .dataframe tbody tr th {\n",
       "        vertical-align: top;\n",
       "    }\n",
       "\n",
       "    .dataframe thead th {\n",
       "        text-align: right;\n",
       "    }\n",
       "</style>\n",
       "<table border=\"1\" class=\"dataframe\">\n",
       "  <thead>\n",
       "    <tr style=\"text-align: right;\">\n",
       "      <th></th>\n",
       "      <th>order_number</th>\n",
       "      <th>status</th>\n",
       "      <th>productline</th>\n",
       "      <th>product_code</th>\n",
       "      <th>customer_name</th>\n",
       "      <th>phone</th>\n",
       "      <th>address</th>\n",
       "      <th>city</th>\n",
       "      <th>country</th>\n",
       "      <th>last_name</th>\n",
       "      <th>first_name</th>\n",
       "      <th>deal_size</th>\n",
       "    </tr>\n",
       "  </thead>\n",
       "  <tbody>\n",
       "    <tr>\n",
       "      <th>num_diff_vals</th>\n",
       "      <td>298</td>\n",
       "      <td>6</td>\n",
       "      <td>7</td>\n",
       "      <td>109</td>\n",
       "      <td>89</td>\n",
       "      <td>88</td>\n",
       "      <td>89</td>\n",
       "      <td>71</td>\n",
       "      <td>19</td>\n",
       "      <td>76</td>\n",
       "      <td>72</td>\n",
       "      <td>3</td>\n",
       "    </tr>\n",
       "    <tr>\n",
       "      <th>distribution</th>\n",
       "      <td>{10106: 18, 10165: 18, 10168: 18, 10316: 18, 1...</td>\n",
       "      <td>{'Shipped': 2541, 'Cancelled': 60, 'Resolved':...</td>\n",
       "      <td>{'Classic Cars': 949, 'Vintage Cars': 579, 'Mo...</td>\n",
       "      <td>{'S18_3232': 51, 'S32_2509': 28, 'S50_1392': 2...</td>\n",
       "      <td>{'Euro Shopping Channel': 259, 'Mini Gifts Dis...</td>\n",
       "      <td>{'(91) 555 94 44': 259, '4155551450': 180, '03...</td>\n",
       "      <td>{'C/ Moralzarzal, 86': 259, '5677 Strong St.':...</td>\n",
       "      <td>{'Madrid': 304, 'San Rafael': 180, 'NYC': 152,...</td>\n",
       "      <td>{'USA': 928, 'Spain': 342, 'France': 314, 'Aus...</td>\n",
       "      <td>{'Freyre': 259, 'Nelson': 204, 'Young': 115, '...</td>\n",
       "      <td>{'Diego': 259, 'Valarie': 257, 'Sue': 84, 'Mic...</td>\n",
       "      <td>{'Medium': 1349, 'Small': 1246, 'Large': 152}</td>\n",
       "    </tr>\n",
       "  </tbody>\n",
       "</table>\n",
       "</div>"
      ],
      "text/plain": [
       "                                                    order_number  \\\n",
       "num_diff_vals                                                298   \n",
       "distribution   {10106: 18, 10165: 18, 10168: 18, 10316: 18, 1...   \n",
       "\n",
       "                                                          status  \\\n",
       "num_diff_vals                                                  6   \n",
       "distribution   {'Shipped': 2541, 'Cancelled': 60, 'Resolved':...   \n",
       "\n",
       "                                                     productline  \\\n",
       "num_diff_vals                                                  7   \n",
       "distribution   {'Classic Cars': 949, 'Vintage Cars': 579, 'Mo...   \n",
       "\n",
       "                                                    product_code  \\\n",
       "num_diff_vals                                                109   \n",
       "distribution   {'S18_3232': 51, 'S32_2509': 28, 'S50_1392': 2...   \n",
       "\n",
       "                                                   customer_name  \\\n",
       "num_diff_vals                                                 89   \n",
       "distribution   {'Euro Shopping Channel': 259, 'Mini Gifts Dis...   \n",
       "\n",
       "                                                           phone  \\\n",
       "num_diff_vals                                                 88   \n",
       "distribution   {'(91) 555 94 44': 259, '4155551450': 180, '03...   \n",
       "\n",
       "                                                         address  \\\n",
       "num_diff_vals                                                 89   \n",
       "distribution   {'C/ Moralzarzal, 86': 259, '5677 Strong St.':...   \n",
       "\n",
       "                                                            city  \\\n",
       "num_diff_vals                                                 71   \n",
       "distribution   {'Madrid': 304, 'San Rafael': 180, 'NYC': 152,...   \n",
       "\n",
       "                                                         country  \\\n",
       "num_diff_vals                                                 19   \n",
       "distribution   {'USA': 928, 'Spain': 342, 'France': 314, 'Aus...   \n",
       "\n",
       "                                                       last_name  \\\n",
       "num_diff_vals                                                 76   \n",
       "distribution   {'Freyre': 259, 'Nelson': 204, 'Young': 115, '...   \n",
       "\n",
       "                                                      first_name  \\\n",
       "num_diff_vals                                                 72   \n",
       "distribution   {'Diego': 259, 'Valarie': 257, 'Sue': 84, 'Mic...   \n",
       "\n",
       "                                                   deal_size  \n",
       "num_diff_vals                                              3  \n",
       "distribution   {'Medium': 1349, 'Small': 1246, 'Large': 152}  "
      ]
     },
     "execution_count": 12,
     "metadata": {},
     "output_type": "execute_result"
    }
   ],
   "source": [
    "columns_to_count=['order_number', 'status','productline','product_code','customer_name','phone','address','city','country','last_name','first_name','deal_size']\n",
    "df=sales_df[columns_to_count]\n",
    "cate_profile={}\n",
    "def valuecount(col):\n",
    "    # Count the occurrences of each attribute in the column\n",
    "    unique_attributes = df[col.name].value_counts().to_dict()\n",
    "    cate_profile[col.name]= {\"num_diff_vals\": len(unique_attributes), \"distribution\": unique_attributes}\n",
    "df.agg(valuecount)\n",
    "cate_profile=pd.DataFrame(data=cate_profile,index=[\"num_diff_vals\", \"distribution\"])\n",
    "\n",
    "cate_profile"
   ]
  },
  {
   "cell_type": "markdown",
   "id": "39b52ec6-33c7-4a8d-9f1e-258c76db159f",
   "metadata": {},
   "source": [
    "### Is there abnormal value?\n",
    "- Value of these columns seem normal\n",
    "\n",
    "Now we use decribe() to explore deeper these columns"
   ]
  },
  {
   "cell_type": "code",
   "execution_count": 13,
   "id": "0e870e72-1700-42a8-8af8-09087c0f5ea9",
   "metadata": {},
   "outputs": [
    {
     "data": {
      "text/html": [
       "<div>\n",
       "<style scoped>\n",
       "    .dataframe tbody tr th:only-of-type {\n",
       "        vertical-align: middle;\n",
       "    }\n",
       "\n",
       "    .dataframe tbody tr th {\n",
       "        vertical-align: top;\n",
       "    }\n",
       "\n",
       "    .dataframe thead th {\n",
       "        text-align: right;\n",
       "    }\n",
       "</style>\n",
       "<table border=\"1\" class=\"dataframe\">\n",
       "  <thead>\n",
       "    <tr style=\"text-align: right;\">\n",
       "      <th></th>\n",
       "      <th>order_number</th>\n",
       "      <th>status</th>\n",
       "      <th>productline</th>\n",
       "      <th>product_code</th>\n",
       "      <th>customer_name</th>\n",
       "      <th>phone</th>\n",
       "      <th>address</th>\n",
       "      <th>city</th>\n",
       "      <th>postalcode</th>\n",
       "      <th>country</th>\n",
       "      <th>last_name</th>\n",
       "      <th>first_name</th>\n",
       "      <th>deal_size</th>\n",
       "    </tr>\n",
       "  </thead>\n",
       "  <tbody>\n",
       "    <tr>\n",
       "      <th>count</th>\n",
       "      <td>2747</td>\n",
       "      <td>2747</td>\n",
       "      <td>2747</td>\n",
       "      <td>2747</td>\n",
       "      <td>2747</td>\n",
       "      <td>2747</td>\n",
       "      <td>2747</td>\n",
       "      <td>2747</td>\n",
       "      <td>2747</td>\n",
       "      <td>2747</td>\n",
       "      <td>2747</td>\n",
       "      <td>2747</td>\n",
       "      <td>2747</td>\n",
       "    </tr>\n",
       "    <tr>\n",
       "      <th>unique</th>\n",
       "      <td>298</td>\n",
       "      <td>6</td>\n",
       "      <td>7</td>\n",
       "      <td>109</td>\n",
       "      <td>89</td>\n",
       "      <td>88</td>\n",
       "      <td>89</td>\n",
       "      <td>71</td>\n",
       "      <td>73</td>\n",
       "      <td>19</td>\n",
       "      <td>76</td>\n",
       "      <td>72</td>\n",
       "      <td>3</td>\n",
       "    </tr>\n",
       "    <tr>\n",
       "      <th>top</th>\n",
       "      <td>10106</td>\n",
       "      <td>Shipped</td>\n",
       "      <td>Classic Cars</td>\n",
       "      <td>S18_3232</td>\n",
       "      <td>Euro Shopping Channel</td>\n",
       "      <td>(91) 555 94 44</td>\n",
       "      <td>C/ Moralzarzal, 86</td>\n",
       "      <td>Madrid</td>\n",
       "      <td>28034</td>\n",
       "      <td>USA</td>\n",
       "      <td>Freyre</td>\n",
       "      <td>Diego</td>\n",
       "      <td>Medium</td>\n",
       "    </tr>\n",
       "    <tr>\n",
       "      <th>freq</th>\n",
       "      <td>18</td>\n",
       "      <td>2541</td>\n",
       "      <td>949</td>\n",
       "      <td>51</td>\n",
       "      <td>259</td>\n",
       "      <td>259</td>\n",
       "      <td>259</td>\n",
       "      <td>304</td>\n",
       "      <td>259</td>\n",
       "      <td>928</td>\n",
       "      <td>259</td>\n",
       "      <td>259</td>\n",
       "      <td>1349</td>\n",
       "    </tr>\n",
       "  </tbody>\n",
       "</table>\n",
       "</div>"
      ],
      "text/plain": [
       "        order_number   status   productline product_code  \\\n",
       "count           2747     2747          2747         2747   \n",
       "unique           298        6             7          109   \n",
       "top            10106  Shipped  Classic Cars     S18_3232   \n",
       "freq              18     2541           949           51   \n",
       "\n",
       "                customer_name           phone             address    city  \\\n",
       "count                    2747            2747                2747    2747   \n",
       "unique                     89              88                  89      71   \n",
       "top     Euro Shopping Channel  (91) 555 94 44  C/ Moralzarzal, 86  Madrid   \n",
       "freq                      259             259                 259     304   \n",
       "\n",
       "       postalcode country last_name first_name deal_size  \n",
       "count        2747    2747      2747       2747      2747  \n",
       "unique         73      19        76         72         3  \n",
       "top         28034     USA    Freyre      Diego    Medium  \n",
       "freq          259     928       259        259      1349  "
      ]
     },
     "execution_count": 13,
     "metadata": {},
     "output_type": "execute_result"
    }
   ],
   "source": [
    "sales_df.describe(include='object')"
   ]
  },
  {
   "cell_type": "markdown",
   "id": "f2715d80-fcbd-48b7-b666-1dd761d4d798",
   "metadata": {},
   "source": [
    "## NUMERIC COLUMNS"
   ]
  },
  {
   "cell_type": "code",
   "execution_count": 14,
   "id": "02061818-792b-49fc-9d81-78d0ca5e5453",
   "metadata": {},
   "outputs": [
    {
     "data": {
      "text/html": [
       "<div>\n",
       "<style scoped>\n",
       "    .dataframe tbody tr th:only-of-type {\n",
       "        vertical-align: middle;\n",
       "    }\n",
       "\n",
       "    .dataframe tbody tr th {\n",
       "        vertical-align: top;\n",
       "    }\n",
       "\n",
       "    .dataframe thead th {\n",
       "        text-align: right;\n",
       "    }\n",
       "</style>\n",
       "<table border=\"1\" class=\"dataframe\">\n",
       "  <thead>\n",
       "    <tr style=\"text-align: right;\">\n",
       "      <th></th>\n",
       "      <th>quantity_ordered</th>\n",
       "      <th>price_per_unit</th>\n",
       "      <th>orderline_number</th>\n",
       "      <th>sales</th>\n",
       "      <th>days_since_lastorder</th>\n",
       "      <th>retail_price</th>\n",
       "    </tr>\n",
       "  </thead>\n",
       "  <tbody>\n",
       "    <tr>\n",
       "      <th>mean</th>\n",
       "      <td>35.1</td>\n",
       "      <td>101.1</td>\n",
       "      <td>6.5</td>\n",
       "      <td>3553.0</td>\n",
       "      <td>1757.1</td>\n",
       "      <td>100.7</td>\n",
       "    </tr>\n",
       "    <tr>\n",
       "      <th>std</th>\n",
       "      <td>9.8</td>\n",
       "      <td>42.0</td>\n",
       "      <td>4.2</td>\n",
       "      <td>1839.0</td>\n",
       "      <td>819.3</td>\n",
       "      <td>40.1</td>\n",
       "    </tr>\n",
       "    <tr>\n",
       "      <th>min</th>\n",
       "      <td>6.0</td>\n",
       "      <td>26.9</td>\n",
       "      <td>1.0</td>\n",
       "      <td>482.1</td>\n",
       "      <td>42.0</td>\n",
       "      <td>33.0</td>\n",
       "    </tr>\n",
       "    <tr>\n",
       "      <th>25%</th>\n",
       "      <td>27.0</td>\n",
       "      <td>68.7</td>\n",
       "      <td>3.0</td>\n",
       "      <td>2204.4</td>\n",
       "      <td>1077.0</td>\n",
       "      <td>68.0</td>\n",
       "    </tr>\n",
       "    <tr>\n",
       "      <th>50%</th>\n",
       "      <td>35.0</td>\n",
       "      <td>95.6</td>\n",
       "      <td>6.0</td>\n",
       "      <td>3184.8</td>\n",
       "      <td>1761.0</td>\n",
       "      <td>99.0</td>\n",
       "    </tr>\n",
       "    <tr>\n",
       "      <th>75%</th>\n",
       "      <td>43.0</td>\n",
       "      <td>127.1</td>\n",
       "      <td>9.0</td>\n",
       "      <td>4503.1</td>\n",
       "      <td>2436.5</td>\n",
       "      <td>124.0</td>\n",
       "    </tr>\n",
       "    <tr>\n",
       "      <th>max</th>\n",
       "      <td>97.0</td>\n",
       "      <td>252.9</td>\n",
       "      <td>18.0</td>\n",
       "      <td>14082.8</td>\n",
       "      <td>3562.0</td>\n",
       "      <td>214.0</td>\n",
       "    </tr>\n",
       "  </tbody>\n",
       "</table>\n",
       "</div>"
      ],
      "text/plain": [
       "      quantity_ordered  price_per_unit  orderline_number    sales  \\\n",
       "mean              35.1           101.1               6.5   3553.0   \n",
       "std                9.8            42.0               4.2   1839.0   \n",
       "min                6.0            26.9               1.0    482.1   \n",
       "25%               27.0            68.7               3.0   2204.4   \n",
       "50%               35.0            95.6               6.0   3184.8   \n",
       "75%               43.0           127.1               9.0   4503.1   \n",
       "max               97.0           252.9              18.0  14082.8   \n",
       "\n",
       "      days_since_lastorder  retail_price  \n",
       "mean                1757.1         100.7  \n",
       "std                  819.3          40.1  \n",
       "min                   42.0          33.0  \n",
       "25%                 1077.0          68.0  \n",
       "50%                 1761.0          99.0  \n",
       "75%                 2436.5         124.0  \n",
       "max                 3562.0         214.0  "
      ]
     },
     "execution_count": 14,
     "metadata": {},
     "output_type": "execute_result"
    }
   ],
   "source": [
    "numeric_cols=['order_number','quantity_ordered','price_per_unit','orderline_number','sales','days_since_lastorder','retail_price']\n",
    "numeric_col_profile = sales_df[numeric_cols].describe()[1:].round(1)\n",
    "numeric_col_profile"
   ]
  },
  {
   "cell_type": "markdown",
   "id": "c69c9e77-6d1a-4767-a53a-4739d2009fc0",
   "metadata": {},
   "source": [
    "After preprocessing done, we save preprocessed data in to new csv for next part"
   ]
  },
  {
   "cell_type": "code",
   "execution_count": 16,
   "id": "01788557-3558-46d9-944b-044bb256aedd",
   "metadata": {},
   "outputs": [],
   "source": [
    "sales_df.to_csv('./../data/Processed.csv')"
   ]
  }
 ],
 "metadata": {
  "kernelspec": {
   "display_name": "Python 3 (ipykernel)",
   "language": "python",
   "name": "python3"
  },
  "language_info": {
   "codemirror_mode": {
    "name": "ipython",
    "version": 3
   },
   "file_extension": ".py",
   "mimetype": "text/x-python",
   "name": "python",
   "nbconvert_exporter": "python",
   "pygments_lexer": "ipython3",
   "version": "3.10.8"
  }
 },
 "nbformat": 4,
 "nbformat_minor": 5
}
