{
 "cells": [
  {
   "cell_type": "markdown",
   "id": "5b9e1b22-3827-40bd-89ea-c00564317196",
   "metadata": {},
   "source": [
    "<div style=\"text-align: center; background-color: #0A6EBD; font-family: 'Trebuchet MS', Arial, sans-serif; color: white; padding: 20px; font-size: 40px; font-weight: bold; border-radius: 0 0 0 0; box-shadow: 0px 6px 8px rgba(0, 0, 0, 0.2);\">\n",
    "  Final Project - Programming for Data Science\n",
    "    <div style=\"text-align: center; background-color: #0A6EBD; font-family: 'Trebuchet MS', Arial, sans-serif; color: white; padding: 20px; font-size: 40px; font-weight: bold; border-radius: 0 0 0 0; box-shadow: 0px 6px 8px rgba(0, 0, 0, 0.2);\">\n",
    "    @ FIT-HCMUS, VNU-HCM 📌\n",
    "</div>"
   ]
  },
  {
   "cell_type": "markdown",
   "id": "d76320d9-ff98-48c8-8e4c-6888f1835346",
   "metadata": {},
   "source": [
    "<div style=\"text-align: center; background-color: #b1d1ff; font-family: 'Trebuchet MS', Arial, sans-serif; color: white; padding: 20px; font-size: 40px; font-weight: bold; border-radius: 0 0 0 0; box-shadow: 0px 6px 8px rgba(0, 0, 0, 0.2);\">\n",
    "  Stage 02 - Preprocessing\n",
    "</div>"
   ]
  },
  {
   "cell_type": "code",
   "execution_count": 1,
   "id": "cf29dde9-4028-40fa-aebd-f0786f850e17",
   "metadata": {},
   "outputs": [],
   "source": [
    "import numpy as np\n",
    "import pandas as pd\n"
   ]
  },
  {
   "cell_type": "code",
   "execution_count": 2,
   "id": "c1428190-9a41-4ec1-b8ca-570e013f535b",
   "metadata": {},
   "outputs": [
    {
     "data": {
      "text/html": [
       "<div>\n",
       "<style scoped>\n",
       "    .dataframe tbody tr th:only-of-type {\n",
       "        vertical-align: middle;\n",
       "    }\n",
       "\n",
       "    .dataframe tbody tr th {\n",
       "        vertical-align: top;\n",
       "    }\n",
       "\n",
       "    .dataframe thead th {\n",
       "        text-align: right;\n",
       "    }\n",
       "</style>\n",
       "<table border=\"1\" class=\"dataframe\">\n",
       "  <thead>\n",
       "    <tr style=\"text-align: right;\">\n",
       "      <th></th>\n",
       "      <th>Start</th>\n",
       "      <th>End</th>\n",
       "      <th>Sleep Quality</th>\n",
       "      <th>Regularity</th>\n",
       "      <th>Mood</th>\n",
       "      <th>Heart rate (bpm)</th>\n",
       "      <th>Steps</th>\n",
       "      <th>Alarm mode</th>\n",
       "      <th>Air Pressure (Pa)</th>\n",
       "      <th>City</th>\n",
       "      <th>...</th>\n",
       "      <th>Time in bed (seconds)</th>\n",
       "      <th>Time asleep (seconds)</th>\n",
       "      <th>Time before sleep (seconds)</th>\n",
       "      <th>Window start</th>\n",
       "      <th>Window stop</th>\n",
       "      <th>Did snore</th>\n",
       "      <th>Snore time</th>\n",
       "      <th>Weather temperature (°C)</th>\n",
       "      <th>Weather type</th>\n",
       "      <th>Notes</th>\n",
       "    </tr>\n",
       "  </thead>\n",
       "  <tbody>\n",
       "    <tr>\n",
       "      <th>204</th>\n",
       "      <td>2020-01-13 21:42:38</td>\n",
       "      <td>2020-01-14 05:10:39</td>\n",
       "      <td>70%</td>\n",
       "      <td>99%</td>\n",
       "      <td>NaN</td>\n",
       "      <td>0</td>\n",
       "      <td>6210</td>\n",
       "      <td>Normal</td>\n",
       "      <td>NaN</td>\n",
       "      <td>NaN</td>\n",
       "      <td>...</td>\n",
       "      <td>26881.2</td>\n",
       "      <td>24820.3</td>\n",
       "      <td>179.2</td>\n",
       "      <td>2020-01-14 05:00:00</td>\n",
       "      <td>2020-01-14 05:00:00</td>\n",
       "      <td>True</td>\n",
       "      <td>255.0</td>\n",
       "      <td>0.0</td>\n",
       "      <td>No weather</td>\n",
       "      <td>NaN</td>\n",
       "    </tr>\n",
       "    <tr>\n",
       "      <th>330</th>\n",
       "      <td>2020-06-01 21:56:20</td>\n",
       "      <td>2020-06-02 05:24:15</td>\n",
       "      <td>50%</td>\n",
       "      <td>87%</td>\n",
       "      <td>NaN</td>\n",
       "      <td>0</td>\n",
       "      <td>904</td>\n",
       "      <td>Normal</td>\n",
       "      <td>NaN</td>\n",
       "      <td>Nelson</td>\n",
       "      <td>...</td>\n",
       "      <td>26875.1</td>\n",
       "      <td>24366.8</td>\n",
       "      <td>537.5</td>\n",
       "      <td>2020-06-02 05:00:00</td>\n",
       "      <td>2020-06-02 05:00:00</td>\n",
       "      <td>True</td>\n",
       "      <td>77.0</td>\n",
       "      <td>6.8</td>\n",
       "      <td>Sunny</td>\n",
       "      <td>NaN</td>\n",
       "    </tr>\n",
       "    <tr>\n",
       "      <th>903</th>\n",
       "      <td>2022-03-02 22:00:08</td>\n",
       "      <td>2022-03-03 04:22:07</td>\n",
       "      <td>58%</td>\n",
       "      <td>99%</td>\n",
       "      <td>NaN</td>\n",
       "      <td>0</td>\n",
       "      <td>1957</td>\n",
       "      <td>Normal</td>\n",
       "      <td>94.6</td>\n",
       "      <td>Central Kootenay</td>\n",
       "      <td>...</td>\n",
       "      <td>22918.4</td>\n",
       "      <td>19327.9</td>\n",
       "      <td>1680.7</td>\n",
       "      <td>2022-03-03 04:20:00</td>\n",
       "      <td>2022-03-03 04:20:00</td>\n",
       "      <td>True</td>\n",
       "      <td>76.3</td>\n",
       "      <td>3.7</td>\n",
       "      <td>Cloudy</td>\n",
       "      <td>NaN</td>\n",
       "    </tr>\n",
       "    <tr>\n",
       "      <th>288</th>\n",
       "      <td>2020-04-16 21:45:08</td>\n",
       "      <td>2020-04-17 06:52:16</td>\n",
       "      <td>81%</td>\n",
       "      <td>89%</td>\n",
       "      <td>NaN</td>\n",
       "      <td>0</td>\n",
       "      <td>2690</td>\n",
       "      <td>Normal</td>\n",
       "      <td>NaN</td>\n",
       "      <td>NaN</td>\n",
       "      <td>...</td>\n",
       "      <td>32828.5</td>\n",
       "      <td>27685.4</td>\n",
       "      <td>1641.4</td>\n",
       "      <td>2020-04-17 06:00:00</td>\n",
       "      <td>2020-04-17 06:00:00</td>\n",
       "      <td>True</td>\n",
       "      <td>0.0</td>\n",
       "      <td>0.0</td>\n",
       "      <td>No weather</td>\n",
       "      <td>NaN</td>\n",
       "    </tr>\n",
       "    <tr>\n",
       "      <th>166</th>\n",
       "      <td>2019-11-30 23:18:51</td>\n",
       "      <td>2019-12-01 08:33:34</td>\n",
       "      <td>100%</td>\n",
       "      <td>89%</td>\n",
       "      <td>NaN</td>\n",
       "      <td>0</td>\n",
       "      <td>166</td>\n",
       "      <td>No alarm</td>\n",
       "      <td>NaN</td>\n",
       "      <td>NaN</td>\n",
       "      <td>...</td>\n",
       "      <td>33283.0</td>\n",
       "      <td>33061.1</td>\n",
       "      <td>221.9</td>\n",
       "      <td>NaN</td>\n",
       "      <td>NaN</td>\n",
       "      <td>True</td>\n",
       "      <td>80.0</td>\n",
       "      <td>0.0</td>\n",
       "      <td>No weather</td>\n",
       "      <td>NaN</td>\n",
       "    </tr>\n",
       "  </tbody>\n",
       "</table>\n",
       "<p>5 rows × 21 columns</p>\n",
       "</div>"
      ],
      "text/plain": [
       "                   Start                  End Sleep Quality Regularity  Mood  \\\n",
       "204  2020-01-13 21:42:38  2020-01-14 05:10:39           70%        99%   NaN   \n",
       "330  2020-06-01 21:56:20  2020-06-02 05:24:15           50%        87%   NaN   \n",
       "903  2022-03-02 22:00:08  2022-03-03 04:22:07           58%        99%   NaN   \n",
       "288  2020-04-16 21:45:08  2020-04-17 06:52:16           81%        89%   NaN   \n",
       "166  2019-11-30 23:18:51  2019-12-01 08:33:34          100%        89%   NaN   \n",
       "\n",
       "     Heart rate (bpm)  Steps Alarm mode  Air Pressure (Pa)              City  \\\n",
       "204                 0   6210     Normal                NaN               NaN   \n",
       "330                 0    904     Normal                NaN            Nelson   \n",
       "903                 0   1957     Normal               94.6  Central Kootenay   \n",
       "288                 0   2690     Normal                NaN               NaN   \n",
       "166                 0    166   No alarm                NaN               NaN   \n",
       "\n",
       "     ...  Time in bed (seconds)  Time asleep (seconds)  \\\n",
       "204  ...                26881.2                24820.3   \n",
       "330  ...                26875.1                24366.8   \n",
       "903  ...                22918.4                19327.9   \n",
       "288  ...                32828.5                27685.4   \n",
       "166  ...                33283.0                33061.1   \n",
       "\n",
       "     Time before sleep (seconds)         Window start          Window stop  \\\n",
       "204                        179.2  2020-01-14 05:00:00  2020-01-14 05:00:00   \n",
       "330                        537.5  2020-06-02 05:00:00  2020-06-02 05:00:00   \n",
       "903                       1680.7  2022-03-03 04:20:00  2022-03-03 04:20:00   \n",
       "288                       1641.4  2020-04-17 06:00:00  2020-04-17 06:00:00   \n",
       "166                        221.9                  NaN                  NaN   \n",
       "\n",
       "    Did snore  Snore time  Weather temperature (°C)  Weather type Notes  \n",
       "204      True       255.0                       0.0    No weather   NaN  \n",
       "330      True        77.0                       6.8         Sunny   NaN  \n",
       "903      True        76.3                       3.7        Cloudy   NaN  \n",
       "288      True         0.0                       0.0    No weather   NaN  \n",
       "166      True        80.0                       0.0    No weather   NaN  \n",
       "\n",
       "[5 rows x 21 columns]"
      ]
     },
     "execution_count": 2,
     "metadata": {},
     "output_type": "execute_result"
    }
   ],
   "source": [
    "sleep_df=pd.read_csv('./../data/sleepdata_2.csv',delimiter=\";\")\n",
    "sleep_df.sample(n=5)"
   ]
  },
  {
   "cell_type": "code",
   "execution_count": 3,
   "id": "3e125298-071d-4a3a-98d3-124e7195c24c",
   "metadata": {},
   "outputs": [
    {
     "data": {
      "text/plain": [
       "(921, 21)"
      ]
     },
     "execution_count": 3,
     "metadata": {},
     "output_type": "execute_result"
    }
   ],
   "source": [
    "n_rows=sleep_df.shape[0]\n",
    "n_cols=sleep_df.shape[1]\n",
    "n_rows, n_cols"
   ]
  },
  {
   "cell_type": "markdown",
   "id": "d06cd73f-7347-4e94-9a66-27de745c46b5",
   "metadata": {},
   "source": [
    "#TODO: GIVE OBSERVATION ABOUT MEANING OF EACH ROWS, COLUMNS\n",
    "\n",
    "- After finding meaning of each rows, each columns in the data, we check whether data have duplicate rows"
   ]
  },
  {
   "cell_type": "code",
   "execution_count": 4,
   "id": "bf886693-0d21-4483-9779-709aa747eaf9",
   "metadata": {},
   "outputs": [
    {
     "data": {
      "text/plain": [
       "0"
      ]
     },
     "execution_count": 4,
     "metadata": {},
     "output_type": "execute_result"
    }
   ],
   "source": [
    "duplicated_rows = sleep_df[sleep_df.duplicated()]\n",
    "len(duplicated_rows)\n"
   ]
  },
  {
   "cell_type": "markdown",
   "id": "fb1e929e-a326-40d6-b357-37da78a39520",
   "metadata": {},
   "source": [
    "There is no duplicate row in data. We notice that there are many missing data (NaN) in the CSV file. We need to find how many percentage of missing data there are."
   ]
  },
  {
   "cell_type": "code",
   "execution_count": 5,
   "id": "ff685f86-e26e-4d2a-9d59-9b7c8eaddaa6",
   "metadata": {},
   "outputs": [
    {
     "name": "stdout",
     "output_type": "stream",
     "text": [
      "<class 'pandas.core.frame.DataFrame'>\n",
      "RangeIndex: 921 entries, 0 to 920\n",
      "Data columns (total 21 columns):\n",
      " #   Column                       Non-Null Count  Dtype  \n",
      "---  ------                       --------------  -----  \n",
      " 0   Start                        921 non-null    object \n",
      " 1   End                          921 non-null    object \n",
      " 2   Sleep Quality                921 non-null    object \n",
      " 3   Regularity                   921 non-null    object \n",
      " 4   Mood                         0 non-null      float64\n",
      " 5   Heart rate (bpm)             921 non-null    int64  \n",
      " 6   Steps                        921 non-null    int64  \n",
      " 7   Alarm mode                   921 non-null    object \n",
      " 8   Air Pressure (Pa)            492 non-null    float64\n",
      " 9   City                         487 non-null    object \n",
      " 10  Movements per hour           921 non-null    float64\n",
      " 11  Time in bed (seconds)        921 non-null    float64\n",
      " 12  Time asleep (seconds)        921 non-null    float64\n",
      " 13  Time before sleep (seconds)  921 non-null    float64\n",
      " 14  Window start                 841 non-null    object \n",
      " 15  Window stop                  841 non-null    object \n",
      " 16  Did snore                    921 non-null    bool   \n",
      " 17  Snore time                   921 non-null    float64\n",
      " 18  Weather temperature (°C)     921 non-null    float64\n",
      " 19  Weather type                 921 non-null    object \n",
      " 20  Notes                        9 non-null      object \n",
      "dtypes: bool(1), float64(8), int64(2), object(10)\n",
      "memory usage: 144.9+ KB\n"
     ]
    }
   ],
   "source": [
    "sleep_df.info()"
   ]
  },
  {
   "cell_type": "markdown",
   "id": "7534430f-adb6-4f8b-a0c4-41f01c0d76df",
   "metadata": {},
   "source": [
    "Now we will caculate missing percent of each column"
   ]
  },
  {
   "cell_type": "code",
   "execution_count": 6,
   "id": "26956c4e-ab72-4b98-a9c9-2533bece73d7",
   "metadata": {},
   "outputs": [
    {
     "data": {
      "text/plain": [
       "Start                            0.000000\n",
       "End                              0.000000\n",
       "Sleep Quality                    0.000000\n",
       "Regularity                       0.000000\n",
       "Mood                           100.000000\n",
       "Heart rate (bpm)                 0.000000\n",
       "Steps                            0.000000\n",
       "Alarm mode                       0.000000\n",
       "Air Pressure (Pa)               46.579805\n",
       "City                            47.122693\n",
       "Movements per hour               0.000000\n",
       "Time in bed (seconds)            0.000000\n",
       "Time asleep (seconds)            0.000000\n",
       "Time before sleep (seconds)      0.000000\n",
       "Window start                     8.686211\n",
       "Window stop                      8.686211\n",
       "Did snore                        0.000000\n",
       "Snore time                       0.000000\n",
       "Weather temperature (°C)         0.000000\n",
       "Weather type                     0.000000\n",
       "Notes                           99.022801\n",
       "dtype: float64"
      ]
     },
     "execution_count": 6,
     "metadata": {},
     "output_type": "execute_result"
    }
   ],
   "source": [
    "missing_values = sleep_df.isnull().sum()\n",
    "\n",
    "# Calculate missing ratio for each column\n",
    "missing_ratio = (missing_values / len(sleep_df)) * 100\n",
    "missing_ratio"
   ]
  },
  {
   "cell_type": "markdown",
   "id": "1fe39b9e-2680-4de6-b9c5-a03332669f59",
   "metadata": {},
   "source": [
    "From observing data and the result, we will drop columns that have >40% data missing, "
   ]
  },
  {
   "cell_type": "code",
   "execution_count": 7,
   "id": "c88cb1de-bc6a-436c-b147-de712afdb31d",
   "metadata": {},
   "outputs": [],
   "source": [
    "columns_to_drop = ['Mood','Air Pressure (Pa)','City','Notes']\n",
    "sleep_df=sleep_df.drop(columns_to_drop,axis=1)"
   ]
  },
  {
   "cell_type": "markdown",
   "id": "af6501a3-da31-42dc-82e7-a494d6c8c13d",
   "metadata": {},
   "source": [
    "Check if any columns have same value in every cells and drop that columns"
   ]
  },
  {
   "cell_type": "code",
   "execution_count": 8,
   "id": "4966e0be-bc4b-4216-bbab-8172a1d6d827",
   "metadata": {},
   "outputs": [
    {
     "name": "stdout",
     "output_type": "stream",
     "text": [
      "Are all values in 'Heart rate (bpm)' the same\n"
     ]
    }
   ],
   "source": [
    "for column in sleep_df.columns:\n",
    "    if sleep_df[column].nunique() == 1:\n",
    "        print(\"Are all values in '{}' the same\".format(column))\n",
    "        sleep_df=sleep_df.drop(column,axis=1)"
   ]
  },
  {
   "cell_type": "markdown",
   "id": "aead3274-2c4f-44a8-933c-26d284a6dff1",
   "metadata": {},
   "source": [
    "## CATEGORICAL COLUMNS"
   ]
  },
  {
   "cell_type": "markdown",
   "id": "c7cfc621-b970-449d-a692-444c9e75065d",
   "metadata": {},
   "source": [
    "Convert columns 'Start', 'End', 'Window start', 'Window stop' to datetime"
   ]
  },
  {
   "cell_type": "code",
   "execution_count": 9,
   "id": "aed6f4b8-ea9f-4e9f-8887-3d9273f3e55f",
   "metadata": {},
   "outputs": [],
   "source": [
    "sleep_df['Start']=pd.to_datetime(sleep_df['Start'],format='%Y-%m-%d %H:%M:%S')\n",
    "sleep_df['End']=pd.to_datetime(sleep_df['End'],format='%Y-%m-%d %H:%M:%S')\n",
    "sleep_df['Window start']=pd.to_datetime(sleep_df['Window start'],format='%Y-%m-%d %H:%M:%S')\n",
    "sleep_df['Window stop']=pd.to_datetime(sleep_df['Window stop'],format='%Y-%m-%d %H:%M:%S')\n"
   ]
  },
  {
   "cell_type": "markdown",
   "id": "05189ac5-4fd8-4e26-9ef9-5f211455dcad",
   "metadata": {},
   "source": [
    "COUNT UNIQUE VALUE OF columns `Alarm mode`, `Did snore` and `Weather type`  "
   ]
  },
  {
   "cell_type": "code",
   "execution_count": 10,
   "id": "2968e945-d5da-432c-adda-98dab68f0f9e",
   "metadata": {},
   "outputs": [
    {
     "data": {
      "text/html": [
       "<div>\n",
       "<style scoped>\n",
       "    .dataframe tbody tr th:only-of-type {\n",
       "        vertical-align: middle;\n",
       "    }\n",
       "\n",
       "    .dataframe tbody tr th {\n",
       "        vertical-align: top;\n",
       "    }\n",
       "\n",
       "    .dataframe thead th {\n",
       "        text-align: right;\n",
       "    }\n",
       "</style>\n",
       "<table border=\"1\" class=\"dataframe\">\n",
       "  <thead>\n",
       "    <tr style=\"text-align: right;\">\n",
       "      <th></th>\n",
       "      <th>Alarm mode</th>\n",
       "      <th>Did snore</th>\n",
       "      <th>Weather type</th>\n",
       "    </tr>\n",
       "  </thead>\n",
       "  <tbody>\n",
       "    <tr>\n",
       "      <th>num_diff_vals</th>\n",
       "      <td>2</td>\n",
       "      <td>2</td>\n",
       "      <td>9</td>\n",
       "    </tr>\n",
       "    <tr>\n",
       "      <th>distribution</th>\n",
       "      <td>{'Normal': 841, 'No alarm': 80}</td>\n",
       "      <td>{True: 913, False: 8}</td>\n",
       "      <td>{'No weather': 488, 'Sunny': 121, 'Cloudy': 75...</td>\n",
       "    </tr>\n",
       "  </tbody>\n",
       "</table>\n",
       "</div>"
      ],
      "text/plain": [
       "                                    Alarm mode              Did snore  \\\n",
       "num_diff_vals                                2                      2   \n",
       "distribution   {'Normal': 841, 'No alarm': 80}  {True: 913, False: 8}   \n",
       "\n",
       "                                                    Weather type  \n",
       "num_diff_vals                                                  9  \n",
       "distribution   {'No weather': 488, 'Sunny': 121, 'Cloudy': 75...  "
      ]
     },
     "execution_count": 10,
     "metadata": {},
     "output_type": "execute_result"
    }
   ],
   "source": [
    "cols_to_count=['Alarm mode','Did snore','Weather type']\n",
    "df = sleep_df[cols_to_count]\n",
    "cat_cols_profile={}\n",
    "# TODO: code step 1\n",
    "def compute_cat_cols(col):\n",
    "    # Count the occurrences of each attribute in the column\n",
    "    unique_attributes = df[col.name].value_counts().to_dict()\n",
    "    cat_cols_profile[col.name]= {\"num_diff_vals\": len(unique_attributes), \"distribution\": unique_attributes}\n",
    "# Use the agg method with the custom aggregation function\n",
    "df.agg(compute_cat_cols)\n",
    "cat_cols_profile=pd.DataFrame(data=cat_cols_profile,index=[\"num_diff_vals\", \"distribution\"])\n",
    "\n",
    "cat_cols_profile"
   ]
  },
  {
   "cell_type": "markdown",
   "id": "39b52ec6-33c7-4a8d-9f1e-258c76db159f",
   "metadata": {},
   "source": [
    "Value of `Alarm mode`, `Did snore` and `Weather` type seem normal"
   ]
  },
  {
   "cell_type": "markdown",
   "id": "f2715d80-fcbd-48b7-b666-1dd761d4d798",
   "metadata": {},
   "source": [
    "## NUMERIC COLUMNS"
   ]
  },
  {
   "cell_type": "markdown",
   "id": "7ec98141-450a-47a5-b50b-935ff2cefa93",
   "metadata": {},
   "source": [
    "We see that columns `Sleep Quality` and `Regularity` contains percentage values. I think that we should change it to numeric format. Currently, they are stored as object type"
   ]
  },
  {
   "cell_type": "code",
   "execution_count": 11,
   "id": "3467de19-b6c2-4ce3-8302-7a10171ba8b7",
   "metadata": {},
   "outputs": [],
   "source": [
    "sleep_df['Sleep Quality'] = sleep_df['Sleep Quality'].str.rstrip('%').astype('float')\n",
    "sleep_df.rename(columns={'Sleep Quality': 'Sleep Quality (%)'}, inplace=True)\n",
    "\n",
    "sleep_df['Regularity'] = sleep_df['Regularity'].str.rstrip('%').astype('float') \n",
    "sleep_df.rename(columns={'Regularity': 'Regularity (%)'}, inplace=True)"
   ]
  },
  {
   "cell_type": "code",
   "execution_count": 12,
   "id": "c6bb09a8-08de-4172-9db3-ce04039993c0",
   "metadata": {},
   "outputs": [
    {
     "name": "stdout",
     "output_type": "stream",
     "text": [
      "<class 'pandas.core.frame.DataFrame'>\n",
      "RangeIndex: 921 entries, 0 to 920\n",
      "Data columns (total 16 columns):\n",
      " #   Column                       Non-Null Count  Dtype         \n",
      "---  ------                       --------------  -----         \n",
      " 0   Start                        921 non-null    datetime64[ns]\n",
      " 1   End                          921 non-null    datetime64[ns]\n",
      " 2   Sleep Quality (%)            921 non-null    float64       \n",
      " 3   Regularity (%)               921 non-null    float64       \n",
      " 4   Steps                        921 non-null    int64         \n",
      " 5   Alarm mode                   921 non-null    object        \n",
      " 6   Movements per hour           921 non-null    float64       \n",
      " 7   Time in bed (seconds)        921 non-null    float64       \n",
      " 8   Time asleep (seconds)        921 non-null    float64       \n",
      " 9   Time before sleep (seconds)  921 non-null    float64       \n",
      " 10  Window start                 841 non-null    datetime64[ns]\n",
      " 11  Window stop                  841 non-null    datetime64[ns]\n",
      " 12  Did snore                    921 non-null    bool          \n",
      " 13  Snore time                   921 non-null    float64       \n",
      " 14  Weather temperature (°C)     921 non-null    float64       \n",
      " 15  Weather type                 921 non-null    object        \n",
      "dtypes: bool(1), datetime64[ns](4), float64(8), int64(1), object(2)\n",
      "memory usage: 109.0+ KB\n"
     ]
    }
   ],
   "source": [
    "sleep_df.info()"
   ]
  },
  {
   "cell_type": "code",
   "execution_count": 13,
   "id": "02061818-792b-49fc-9d81-78d0ca5e5453",
   "metadata": {},
   "outputs": [
    {
     "data": {
      "text/html": [
       "<div>\n",
       "<style scoped>\n",
       "    .dataframe tbody tr th:only-of-type {\n",
       "        vertical-align: middle;\n",
       "    }\n",
       "\n",
       "    .dataframe tbody tr th {\n",
       "        vertical-align: top;\n",
       "    }\n",
       "\n",
       "    .dataframe thead th {\n",
       "        text-align: right;\n",
       "    }\n",
       "</style>\n",
       "<table border=\"1\" class=\"dataframe\">\n",
       "  <thead>\n",
       "    <tr style=\"text-align: right;\">\n",
       "      <th></th>\n",
       "      <th>Sleep Quality (%)</th>\n",
       "      <th>Regularity (%)</th>\n",
       "      <th>Steps</th>\n",
       "      <th>Movements per hour</th>\n",
       "      <th>Time in bed (seconds)</th>\n",
       "      <th>Time asleep (seconds)</th>\n",
       "      <th>Time before sleep (seconds)</th>\n",
       "      <th>Snore time</th>\n",
       "      <th>Weather temperature (°C)</th>\n",
       "    </tr>\n",
       "  </thead>\n",
       "  <tbody>\n",
       "    <tr>\n",
       "      <th>mean</th>\n",
       "      <td>77.9</td>\n",
       "      <td>84.4</td>\n",
       "      <td>5311.6</td>\n",
       "      <td>174.3</td>\n",
       "      <td>27505.5</td>\n",
       "      <td>23912.7</td>\n",
       "      <td>1001.6</td>\n",
       "      <td>312.9</td>\n",
       "      <td>2.1</td>\n",
       "    </tr>\n",
       "    <tr>\n",
       "      <th>std</th>\n",
       "      <td>12.9</td>\n",
       "      <td>12.5</td>\n",
       "      <td>4396.8</td>\n",
       "      <td>822.8</td>\n",
       "      <td>3916.7</td>\n",
       "      <td>4066.2</td>\n",
       "      <td>1046.3</td>\n",
       "      <td>455.5</td>\n",
       "      <td>6.3</td>\n",
       "    </tr>\n",
       "    <tr>\n",
       "      <th>min</th>\n",
       "      <td>7.0</td>\n",
       "      <td>-1.0</td>\n",
       "      <td>0.0</td>\n",
       "      <td>0.0</td>\n",
       "      <td>1852.8</td>\n",
       "      <td>0.0</td>\n",
       "      <td>0.0</td>\n",
       "      <td>0.0</td>\n",
       "      <td>-19.0</td>\n",
       "    </tr>\n",
       "    <tr>\n",
       "      <th>25%</th>\n",
       "      <td>71.0</td>\n",
       "      <td>82.0</td>\n",
       "      <td>2299.0</td>\n",
       "      <td>37.0</td>\n",
       "      <td>25500.6</td>\n",
       "      <td>21627.5</td>\n",
       "      <td>449.9</td>\n",
       "      <td>0.0</td>\n",
       "      <td>0.0</td>\n",
       "    </tr>\n",
       "    <tr>\n",
       "      <th>50%</th>\n",
       "      <td>78.0</td>\n",
       "      <td>86.0</td>\n",
       "      <td>4245.0</td>\n",
       "      <td>49.6</td>\n",
       "      <td>27422.9</td>\n",
       "      <td>23919.0</td>\n",
       "      <td>563.7</td>\n",
       "      <td>148.0</td>\n",
       "      <td>0.0</td>\n",
       "    </tr>\n",
       "    <tr>\n",
       "      <th>75%</th>\n",
       "      <td>86.0</td>\n",
       "      <td>91.0</td>\n",
       "      <td>7452.0</td>\n",
       "      <td>65.2</td>\n",
       "      <td>29530.1</td>\n",
       "      <td>26257.0</td>\n",
       "      <td>1287.0</td>\n",
       "      <td>440.0</td>\n",
       "      <td>3.1</td>\n",
       "    </tr>\n",
       "    <tr>\n",
       "      <th>max</th>\n",
       "      <td>100.0</td>\n",
       "      <td>100.0</td>\n",
       "      <td>38165.0</td>\n",
       "      <td>17926.7</td>\n",
       "      <td>46703.4</td>\n",
       "      <td>45769.4</td>\n",
       "      <td>5677.7</td>\n",
       "      <td>4477.3</td>\n",
       "      <td>24.5</td>\n",
       "    </tr>\n",
       "  </tbody>\n",
       "</table>\n",
       "</div>"
      ],
      "text/plain": [
       "      Sleep Quality (%)  Regularity (%)    Steps  Movements per hour  \\\n",
       "mean               77.9            84.4   5311.6               174.3   \n",
       "std                12.9            12.5   4396.8               822.8   \n",
       "min                 7.0            -1.0      0.0                 0.0   \n",
       "25%                71.0            82.0   2299.0                37.0   \n",
       "50%                78.0            86.0   4245.0                49.6   \n",
       "75%                86.0            91.0   7452.0                65.2   \n",
       "max               100.0           100.0  38165.0             17926.7   \n",
       "\n",
       "      Time in bed (seconds)  Time asleep (seconds)  \\\n",
       "mean                27505.5                23912.7   \n",
       "std                  3916.7                 4066.2   \n",
       "min                  1852.8                    0.0   \n",
       "25%                 25500.6                21627.5   \n",
       "50%                 27422.9                23919.0   \n",
       "75%                 29530.1                26257.0   \n",
       "max                 46703.4                45769.4   \n",
       "\n",
       "      Time before sleep (seconds)  Snore time  Weather temperature (°C)  \n",
       "mean                       1001.6       312.9                       2.1  \n",
       "std                        1046.3       455.5                       6.3  \n",
       "min                           0.0         0.0                     -19.0  \n",
       "25%                         449.9         0.0                       0.0  \n",
       "50%                         563.7       148.0                       0.0  \n",
       "75%                        1287.0       440.0                       3.1  \n",
       "max                        5677.7      4477.3                      24.5  "
      ]
     },
     "execution_count": 13,
     "metadata": {},
     "output_type": "execute_result"
    }
   ],
   "source": [
    "numeric_cols=['Sleep Quality (%)', 'Regularity (%)', 'Steps', 'Movements per hour', 'Time in bed (seconds)', 'Time asleep (seconds)', 'Time before sleep (seconds)', 'Snore time', 'Weather temperature (°C)']\n",
    "numeric_col_profile = sleep_df[numeric_cols].describe()[1:].round(1)\n",
    "numeric_col_profile"
   ]
  },
  {
   "cell_type": "code",
   "execution_count": 14,
   "id": "01788557-3558-46d9-944b-044bb256aedd",
   "metadata": {},
   "outputs": [],
   "source": [
    "sleep_df.to_csv('./../data/Processed.csv')"
   ]
  }
 ],
 "metadata": {
  "kernelspec": {
   "display_name": "Python 3 (ipykernel)",
   "language": "python",
   "name": "python3"
  },
  "language_info": {
   "codemirror_mode": {
    "name": "ipython",
    "version": 3
   },
   "file_extension": ".py",
   "mimetype": "text/x-python",
   "name": "python",
   "nbconvert_exporter": "python",
   "pygments_lexer": "ipython3",
   "version": "3.10.8"
  }
 },
 "nbformat": 4,
 "nbformat_minor": 5
}
