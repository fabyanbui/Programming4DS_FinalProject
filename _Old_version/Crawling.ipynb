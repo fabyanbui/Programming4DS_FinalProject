{
 "cells": [
  {
   "cell_type": "code",
   "execution_count": 1,
   "id": "cf29dde9-4028-40fa-aebd-f0786f850e17",
   "metadata": {},
   "outputs": [],
   "source": [
    "import numpy as np\n",
    "import pandas as pd\n"
   ]
  },
  {
   "cell_type": "code",
   "execution_count": 3,
   "id": "c1428190-9a41-4ec1-b8ca-570e013f535b",
   "metadata": {},
   "outputs": [
    {
     "data": {
      "text/plain": [
       "0                   NaN\n",
       "1                   NaN\n",
       "2                   NaN\n",
       "3                   NaN\n",
       "4                   NaN\n",
       "             ...       \n",
       "916    Central Kootenay\n",
       "917      North Okanagan\n",
       "918      North Okanagan\n",
       "919    Central Kootenay\n",
       "920    Central Kootenay\n",
       "Name: City, Length: 921, dtype: object"
      ]
     },
     "execution_count": 3,
     "metadata": {},
     "output_type": "execute_result"
    }
   ],
   "source": [
    "sleep_df=pd.read_csv('sleepdata_2.csv',delimiter=\";\")\n",
    "sleep_df.sample(n=5)\n",
    "sleep_df"
   ]
  },
  {
   "cell_type": "code",
   "execution_count": 4,
   "id": "3e125298-071d-4a3a-98d3-124e7195c24c",
   "metadata": {},
   "outputs": [
    {
     "data": {
      "text/plain": [
       "(921, 21)"
      ]
     },
     "execution_count": 4,
     "metadata": {},
     "output_type": "execute_result"
    }
   ],
   "source": [
    "n_rows=sleep_df.shape[0]\n",
    "n_cols=sleep_df.shape[1]\n",
    "n_rows, n_cols"
   ]
  },
  {
   "cell_type": "markdown",
   "id": "d06cd73f-7347-4e94-9a66-27de745c46b5",
   "metadata": {},
   "source": [
    "#TODO: GIVE OBSERVATION ABOUT MEANING OF EACH ROWS, COLUMNS\n",
    "\n",
    "- After finding meaning of each rows, each columns in the data, we check whether data have duplicate rows"
   ]
  },
  {
   "cell_type": "code",
   "execution_count": 5,
   "id": "bf886693-0d21-4483-9779-709aa747eaf9",
   "metadata": {},
   "outputs": [
    {
     "data": {
      "text/plain": [
       "0"
      ]
     },
     "execution_count": 5,
     "metadata": {},
     "output_type": "execute_result"
    }
   ],
   "source": [
    "duplicated_rows = sleep_df[sleep_df.duplicated()]\n",
    "len(duplicated_rows)\n"
   ]
  },
  {
   "cell_type": "markdown",
   "id": "fb1e929e-a326-40d6-b357-37da78a39520",
   "metadata": {},
   "source": [
    "There is no duplicate row in data. We notice that there are many missing data (NaN) in the CSV file. We need to find how many percentage of missing data there are."
   ]
  },
  {
   "cell_type": "code",
   "execution_count": 6,
   "id": "ff685f86-e26e-4d2a-9d59-9b7c8eaddaa6",
   "metadata": {},
   "outputs": [
    {
     "name": "stdout",
     "output_type": "stream",
     "text": [
      "<class 'pandas.core.frame.DataFrame'>\n",
      "RangeIndex: 921 entries, 0 to 920\n",
      "Data columns (total 21 columns):\n",
      " #   Column                       Non-Null Count  Dtype  \n",
      "---  ------                       --------------  -----  \n",
      " 0   Start                        921 non-null    object \n",
      " 1   End                          921 non-null    object \n",
      " 2   Sleep Quality                921 non-null    object \n",
      " 3   Regularity                   921 non-null    object \n",
      " 4   Mood                         0 non-null      float64\n",
      " 5   Heart rate (bpm)             921 non-null    int64  \n",
      " 6   Steps                        921 non-null    int64  \n",
      " 7   Alarm mode                   921 non-null    object \n",
      " 8   Air Pressure (Pa)            492 non-null    float64\n",
      " 9   City                         487 non-null    object \n",
      " 10  Movements per hour           921 non-null    float64\n",
      " 11  Time in bed (seconds)        921 non-null    float64\n",
      " 12  Time asleep (seconds)        921 non-null    float64\n",
      " 13  Time before sleep (seconds)  921 non-null    float64\n",
      " 14  Window start                 841 non-null    object \n",
      " 15  Window stop                  841 non-null    object \n",
      " 16  Did snore                    921 non-null    bool   \n",
      " 17  Snore time                   921 non-null    float64\n",
      " 18  Weather temperature (°C)     921 non-null    float64\n",
      " 19  Weather type                 921 non-null    object \n",
      " 20  Notes                        9 non-null      object \n",
      "dtypes: bool(1), float64(8), int64(2), object(10)\n",
      "memory usage: 144.9+ KB\n"
     ]
    }
   ],
   "source": [
    "sleep_df.info()"
   ]
  },
  {
   "cell_type": "markdown",
   "id": "7534430f-adb6-4f8b-a0c4-41f01c0d76df",
   "metadata": {},
   "source": [
    "Now we will caculate missing percent of each column"
   ]
  },
  {
   "cell_type": "code",
   "execution_count": 7,
   "id": "26956c4e-ab72-4b98-a9c9-2533bece73d7",
   "metadata": {},
   "outputs": [
    {
     "data": {
      "text/plain": [
       "Start                            0.000000\n",
       "End                              0.000000\n",
       "Sleep Quality                    0.000000\n",
       "Regularity                       0.000000\n",
       "Mood                           100.000000\n",
       "Heart rate (bpm)                 0.000000\n",
       "Steps                            0.000000\n",
       "Alarm mode                       0.000000\n",
       "Air Pressure (Pa)               46.579805\n",
       "City                            47.122693\n",
       "Movements per hour               0.000000\n",
       "Time in bed (seconds)            0.000000\n",
       "Time asleep (seconds)            0.000000\n",
       "Time before sleep (seconds)      0.000000\n",
       "Window start                     8.686211\n",
       "Window stop                      8.686211\n",
       "Did snore                        0.000000\n",
       "Snore time                       0.000000\n",
       "Weather temperature (°C)         0.000000\n",
       "Weather type                     0.000000\n",
       "Notes                           99.022801\n",
       "dtype: float64"
      ]
     },
     "execution_count": 7,
     "metadata": {},
     "output_type": "execute_result"
    }
   ],
   "source": [
    "missing_values = sleep_df.isnull().sum()\n",
    "\n",
    "# Calculate missing ratio for each column\n",
    "missing_ratio = (missing_values / len(sleep_df)) * 100\n",
    "missing_ratio"
   ]
  },
  {
   "cell_type": "markdown",
   "id": "1fe39b9e-2680-4de6-b9c5-a03332669f59",
   "metadata": {},
   "source": [
    "From observing data and the result, we will drop columns that have >40% data missing, "
   ]
  },
  {
   "cell_type": "code",
   "execution_count": 8,
   "id": "c88cb1de-bc6a-436c-b147-de712afdb31d",
   "metadata": {},
   "outputs": [],
   "source": [
    "columns_to_drop = ['Mood','Air Pressure (Pa)','City','Notes']\n",
    "sleep_df=sleep_df.drop(columns_to_drop,axis=1)"
   ]
  },
  {
   "cell_type": "markdown",
   "id": "af6501a3-da31-42dc-82e7-a494d6c8c13d",
   "metadata": {},
   "source": [
    "Check if any columns have same value in every cells and drop that columns"
   ]
  },
  {
   "cell_type": "code",
   "execution_count": 9,
   "id": "4966e0be-bc4b-4216-bbab-8172a1d6d827",
   "metadata": {},
   "outputs": [
    {
     "name": "stdout",
     "output_type": "stream",
     "text": [
      "Are all values in 'Heart rate (bpm)' the same\n"
     ]
    }
   ],
   "source": [
    "for column in sleep_df.columns:\n",
    "    if sleep_df[column].nunique() == 1:\n",
    "        print(\"Are all values in '{}' the same\".format(column))\n",
    "        sleep_df=sleep_df.drop(column,axis=1)"
   ]
  },
  {
   "cell_type": "markdown",
   "id": "aead3274-2c4f-44a8-933c-26d284a6dff1",
   "metadata": {},
   "source": [
    "## CATEGORICAL COLUMNS"
   ]
  },
  {
   "cell_type": "markdown",
   "id": "c7cfc621-b970-449d-a692-444c9e75065d",
   "metadata": {},
   "source": [
    "Convert columns 'Start', 'End', 'Window start', 'Window stop' to datetime"
   ]
  },
  {
   "cell_type": "code",
   "execution_count": 10,
   "id": "aed6f4b8-ea9f-4e9f-8887-3d9273f3e55f",
   "metadata": {},
   "outputs": [],
   "source": [
    "sleep_df['Start']=pd.to_datetime(sleep_df['Start'],format='%Y-%m-%d %H:%M:%S')\n",
    "sleep_df['End']=pd.to_datetime(sleep_df['End'],format='%Y-%m-%d %H:%M:%S')\n",
    "sleep_df['Window start']=pd.to_datetime(sleep_df['Window start'],format='%Y-%m-%d %H:%M:%S')\n",
    "sleep_df['Window stop']=pd.to_datetime(sleep_df['Window stop'],format='%Y-%m-%d %H:%M:%S')\n"
   ]
  },
  {
   "cell_type": "markdown",
   "id": "05189ac5-4fd8-4e26-9ef9-5f211455dcad",
   "metadata": {},
   "source": [
    "COUNT UNIQUE VALUE OF columns `Alarm mode`, `Did snore` and `Weather type`  "
   ]
  },
  {
   "cell_type": "code",
   "execution_count": 11,
   "id": "2968e945-d5da-432c-adda-98dab68f0f9e",
   "metadata": {},
   "outputs": [
    {
     "data": {
      "text/plain": [
       "{'Alarm mode': ['Normal', 'No alarm'],\n",
       " 'Did snore': [True, False],\n",
       " 'Weather type': ['No weather',\n",
       "  'Sunny',\n",
       "  'Fair',\n",
       "  'Partly cloudy',\n",
       "  'Cloudy',\n",
       "  'Snow',\n",
       "  'Fog',\n",
       "  'Rain',\n",
       "  'Rainy showers']}"
      ]
     },
     "execution_count": 11,
     "metadata": {},
     "output_type": "execute_result"
    }
   ],
   "source": [
    "columns_to_count=['Alarm mode','Did snore','Weather type']\n",
    "unique_values_dict = {column: sleep_df[column].unique().tolist() for column in columns_to_count}\n",
    "unique_values_dict"
   ]
  },
  {
   "cell_type": "markdown",
   "id": "39b52ec6-33c7-4a8d-9f1e-258c76db159f",
   "metadata": {},
   "source": [
    "Value of `Alarm mode`, `Did snore` and `Weather` type seem normal"
   ]
  },
  {
   "cell_type": "markdown",
   "id": "f2715d80-fcbd-48b7-b666-1dd761d4d798",
   "metadata": {},
   "source": [
    "## NUMERIC COLUMNS"
   ]
  },
  {
   "cell_type": "markdown",
   "id": "7ec98141-450a-47a5-b50b-935ff2cefa93",
   "metadata": {},
   "source": [
    "We see that columns `Sleep Quality` and `Regularity` contains percentage values. I think that we should change it to numeric format. Currently, they are stored as object type"
   ]
  },
  {
   "cell_type": "code",
   "execution_count": 12,
   "id": "3467de19-b6c2-4ce3-8302-7a10171ba8b7",
   "metadata": {},
   "outputs": [],
   "source": [
    "sleep_df['Sleep Quality'] = sleep_df['Sleep Quality'].str.rstrip('%').astype('float')\n",
    "sleep_df.rename(columns={'Sleep Quality': 'Sleep Quality (%)'}, inplace=True)\n",
    "\n",
    "sleep_df['Regularity'] = sleep_df['Regularity'].str.rstrip('%').astype('float') \n",
    "sleep_df.rename(columns={'Regularity': 'Regularity (%)'}, inplace=True)"
   ]
  },
  {
   "cell_type": "code",
   "execution_count": 13,
   "id": "c6bb09a8-08de-4172-9db3-ce04039993c0",
   "metadata": {},
   "outputs": [
    {
     "name": "stdout",
     "output_type": "stream",
     "text": [
      "<class 'pandas.core.frame.DataFrame'>\n",
      "RangeIndex: 921 entries, 0 to 920\n",
      "Data columns (total 16 columns):\n",
      " #   Column                       Non-Null Count  Dtype         \n",
      "---  ------                       --------------  -----         \n",
      " 0   Start                        921 non-null    datetime64[ns]\n",
      " 1   End                          921 non-null    datetime64[ns]\n",
      " 2   Sleep Quality (%)            921 non-null    float64       \n",
      " 3   Regularity (%)               921 non-null    float64       \n",
      " 4   Steps                        921 non-null    int64         \n",
      " 5   Alarm mode                   921 non-null    object        \n",
      " 6   Movements per hour           921 non-null    float64       \n",
      " 7   Time in bed (seconds)        921 non-null    float64       \n",
      " 8   Time asleep (seconds)        921 non-null    float64       \n",
      " 9   Time before sleep (seconds)  921 non-null    float64       \n",
      " 10  Window start                 841 non-null    datetime64[ns]\n",
      " 11  Window stop                  841 non-null    datetime64[ns]\n",
      " 12  Did snore                    921 non-null    bool          \n",
      " 13  Snore time                   921 non-null    float64       \n",
      " 14  Weather temperature (°C)     921 non-null    float64       \n",
      " 15  Weather type                 921 non-null    object        \n",
      "dtypes: bool(1), datetime64[ns](4), float64(8), int64(1), object(2)\n",
      "memory usage: 109.0+ KB\n"
     ]
    }
   ],
   "source": [
    "sleep_df.info()"
   ]
  },
  {
   "cell_type": "markdown",
   "id": "8b8f55ff-409a-4fbf-9ae2-a7c2a43664aa",
   "metadata": {},
   "source": [
    "Caculate quantile of numeric columns"
   ]
  },
  {
   "cell_type": "code",
   "execution_count": 14,
   "id": "02061818-792b-49fc-9d81-78d0ca5e5453",
   "metadata": {},
   "outputs": [
    {
     "data": {
      "text/html": [
       "<div>\n",
       "<style scoped>\n",
       "    .dataframe tbody tr th:only-of-type {\n",
       "        vertical-align: middle;\n",
       "    }\n",
       "\n",
       "    .dataframe tbody tr th {\n",
       "        vertical-align: top;\n",
       "    }\n",
       "\n",
       "    .dataframe thead th {\n",
       "        text-align: right;\n",
       "    }\n",
       "</style>\n",
       "<table border=\"1\" class=\"dataframe\">\n",
       "  <thead>\n",
       "    <tr style=\"text-align: right;\">\n",
       "      <th></th>\n",
       "      <th>Sleep Quality (%)</th>\n",
       "      <th>Regularity (%)</th>\n",
       "      <th>Steps</th>\n",
       "      <th>Movements per hour</th>\n",
       "      <th>Time in bed (seconds)</th>\n",
       "      <th>Time asleep (seconds)</th>\n",
       "      <th>Time before sleep (seconds)</th>\n",
       "      <th>Snore time</th>\n",
       "      <th>Weather temperature (°C)</th>\n",
       "    </tr>\n",
       "  </thead>\n",
       "  <tbody>\n",
       "    <tr>\n",
       "      <th>min</th>\n",
       "      <td>7.0</td>\n",
       "      <td>-1.0</td>\n",
       "      <td>0.0</td>\n",
       "      <td>0.0</td>\n",
       "      <td>1852.8</td>\n",
       "      <td>0.0</td>\n",
       "      <td>0.0</td>\n",
       "      <td>0.0</td>\n",
       "      <td>-19.0</td>\n",
       "    </tr>\n",
       "    <tr>\n",
       "      <th>25%</th>\n",
       "      <td>71.0</td>\n",
       "      <td>82.0</td>\n",
       "      <td>2299.0</td>\n",
       "      <td>37.0</td>\n",
       "      <td>25500.6</td>\n",
       "      <td>21627.5</td>\n",
       "      <td>449.9</td>\n",
       "      <td>0.0</td>\n",
       "      <td>0.0</td>\n",
       "    </tr>\n",
       "    <tr>\n",
       "      <th>50%</th>\n",
       "      <td>78.0</td>\n",
       "      <td>86.0</td>\n",
       "      <td>4245.0</td>\n",
       "      <td>49.6</td>\n",
       "      <td>27422.9</td>\n",
       "      <td>23919.0</td>\n",
       "      <td>563.7</td>\n",
       "      <td>148.0</td>\n",
       "      <td>0.0</td>\n",
       "    </tr>\n",
       "    <tr>\n",
       "      <th>75%</th>\n",
       "      <td>86.0</td>\n",
       "      <td>91.0</td>\n",
       "      <td>7452.0</td>\n",
       "      <td>65.2</td>\n",
       "      <td>29530.1</td>\n",
       "      <td>26257.0</td>\n",
       "      <td>1287.0</td>\n",
       "      <td>440.0</td>\n",
       "      <td>3.1</td>\n",
       "    </tr>\n",
       "    <tr>\n",
       "      <th>max</th>\n",
       "      <td>100.0</td>\n",
       "      <td>100.0</td>\n",
       "      <td>38165.0</td>\n",
       "      <td>17926.7</td>\n",
       "      <td>46703.4</td>\n",
       "      <td>45769.4</td>\n",
       "      <td>5677.7</td>\n",
       "      <td>4477.3</td>\n",
       "      <td>24.5</td>\n",
       "    </tr>\n",
       "  </tbody>\n",
       "</table>\n",
       "</div>"
      ],
      "text/plain": [
       "     Sleep Quality (%)  Regularity (%)    Steps  Movements per hour  \\\n",
       "min                7.0            -1.0      0.0                 0.0   \n",
       "25%               71.0            82.0   2299.0                37.0   \n",
       "50%               78.0            86.0   4245.0                49.6   \n",
       "75%               86.0            91.0   7452.0                65.2   \n",
       "max              100.0           100.0  38165.0             17926.7   \n",
       "\n",
       "     Time in bed (seconds)  Time asleep (seconds)  \\\n",
       "min                 1852.8                    0.0   \n",
       "25%                25500.6                21627.5   \n",
       "50%                27422.9                23919.0   \n",
       "75%                29530.1                26257.0   \n",
       "max                46703.4                45769.4   \n",
       "\n",
       "     Time before sleep (seconds)  Snore time  Weather temperature (°C)  \n",
       "min                          0.0         0.0                     -19.0  \n",
       "25%                        449.9         0.0                       0.0  \n",
       "50%                        563.7       148.0                       0.0  \n",
       "75%                       1287.0       440.0                       3.1  \n",
       "max                       5677.7      4477.3                      24.5  "
      ]
     },
     "execution_count": 14,
     "metadata": {},
     "output_type": "execute_result"
    }
   ],
   "source": [
    "numeric_cols=['Sleep Quality (%)', 'Regularity (%)', 'Steps', 'Movements per hour', 'Time in bed (seconds)', 'Time asleep (seconds)', 'Time before sleep (seconds)', 'Snore time', 'Weather temperature (°C)']\n",
    "numeric_col_profile = sleep_df[numeric_cols].quantile([0, 0.25, 0.5, 0.75, 1])\n",
    "numeric_col_profile.index = ['min', '25%', '50%', '75%', 'max']\n",
    "numeric_col_profile"
   ]
  },
  {
   "cell_type": "code",
   "execution_count": 16,
   "id": "01788557-3558-46d9-944b-044bb256aedd",
   "metadata": {},
   "outputs": [],
   "source": [
    "sleep_df.to_csv('Processed.csv')"
   ]
  },
  {
   "cell_type": "code",
   "execution_count": null,
   "id": "2584f330-da19-4bde-812e-8606220d2ebd",
   "metadata": {},
   "outputs": [],
   "source": []
  }
 ],
 "metadata": {
  "kernelspec": {
   "display_name": "Python 3 (ipykernel)",
   "language": "python",
   "name": "python3"
  },
  "language_info": {
   "codemirror_mode": {
    "name": "ipython",
    "version": 3
   },
   "file_extension": ".py",
   "mimetype": "text/x-python",
   "name": "python",
   "nbconvert_exporter": "python",
   "pygments_lexer": "ipython3",
   "version": "3.10.8"
  }
 },
 "nbformat": 4,
 "nbformat_minor": 5
}
